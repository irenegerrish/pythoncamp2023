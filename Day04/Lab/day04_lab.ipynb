{
 "cells": [
  {
   "cell_type": "markdown",
   "metadata": {},
   "source": [
    "#### Day 4: Web Scraping + File I/O\n",
    "\n",
    "Instructions: \n",
    "\n",
    "1. Go to https://polisci.wustl.edu/people/88/all OR https://polisci.wustl.edu/people/list/88/all\n",
    "2. Go to the page for each of the professors.\n",
    "3. Create a `.csv`` file with the following information for each professor:\n",
    "\t- Name\n",
    "\t- Title\n",
    "\t- E-mail\n",
    "\t- Web page\n",
    "\t- Specialization  \n",
    "\t\t- If they do not have a specialization, you can leave it blank. \n",
    "\t\t- An example from Deniz's page: https://polisci.wustl.edu/people/deniz-aksoy\n",
    "\t\t- Professor Aksoy’s research is motivated by an interest in comparative political institutions and political violence. "
   ]
  },
  {
   "cell_type": "code",
   "execution_count": 32,
   "metadata": {},
   "outputs": [
    {
     "name": "stdout",
     "output_type": "stream",
     "text": [
      "{'name': 'NA', 'title': 'NA', 'email': 'NA', 'webpage': 'NA', 'specialization': 'NA'}\n"
     ]
    },
    {
     "ename": "AttributeError",
     "evalue": "ResultSet object has no attribute 'keys'. You're probably treating a list of elements like a single element. Did you call find_all() when you meant to call find()?",
     "output_type": "error",
     "traceback": [
      "\u001b[0;31m---------------------------------------------------------------------------\u001b[0m",
      "\u001b[0;31mAttributeError\u001b[0m                            Traceback (most recent call last)",
      "Cell \u001b[0;32mIn[32], line 33\u001b[0m\n\u001b[1;32m     31\u001b[0m     faculty[\u001b[39m'\u001b[39m\u001b[39mwebpage\u001b[39m\u001b[39m'\u001b[39m] \u001b[39m=\u001b[39m \u001b[39m'\u001b[39m\u001b[39mNA\u001b[39m\u001b[39m'\u001b[39m\n\u001b[1;32m     32\u001b[0m     faculty[\u001b[39m'\u001b[39m\u001b[39mspecialization\u001b[39m\u001b[39m'\u001b[39m] \u001b[39m=\u001b[39m \u001b[39m'\u001b[39m\u001b[39mNA\u001b[39m\u001b[39m'\u001b[39m\n\u001b[0;32m---> 33\u001b[0m w\u001b[39m.\u001b[39;49mwriterow(faculty_i)\n\u001b[1;32m     34\u001b[0m time\u001b[39m.\u001b[39msleep(random\u001b[39m.\u001b[39muniform(\u001b[39m1\u001b[39m, \u001b[39m5\u001b[39m))\n",
      "File \u001b[0;32m/Library/Frameworks/Python.framework/Versions/3.11/lib/python3.11/csv.py:154\u001b[0m, in \u001b[0;36mDictWriter.writerow\u001b[0;34m(self, rowdict)\u001b[0m\n\u001b[1;32m    153\u001b[0m \u001b[39mdef\u001b[39;00m \u001b[39mwriterow\u001b[39m(\u001b[39mself\u001b[39m, rowdict):\n\u001b[0;32m--> 154\u001b[0m     \u001b[39mreturn\u001b[39;00m \u001b[39mself\u001b[39m\u001b[39m.\u001b[39mwriter\u001b[39m.\u001b[39mwriterow(\u001b[39mself\u001b[39;49m\u001b[39m.\u001b[39;49m_dict_to_list(rowdict))\n",
      "File \u001b[0;32m/Library/Frameworks/Python.framework/Versions/3.11/lib/python3.11/csv.py:147\u001b[0m, in \u001b[0;36mDictWriter._dict_to_list\u001b[0;34m(self, rowdict)\u001b[0m\n\u001b[1;32m    145\u001b[0m \u001b[39mdef\u001b[39;00m \u001b[39m_dict_to_list\u001b[39m(\u001b[39mself\u001b[39m, rowdict):\n\u001b[1;32m    146\u001b[0m     \u001b[39mif\u001b[39;00m \u001b[39mself\u001b[39m\u001b[39m.\u001b[39mextrasaction \u001b[39m==\u001b[39m \u001b[39m\"\u001b[39m\u001b[39mraise\u001b[39m\u001b[39m\"\u001b[39m:\n\u001b[0;32m--> 147\u001b[0m         wrong_fields \u001b[39m=\u001b[39m rowdict\u001b[39m.\u001b[39;49mkeys() \u001b[39m-\u001b[39m \u001b[39mself\u001b[39m\u001b[39m.\u001b[39mfieldnames\n\u001b[1;32m    148\u001b[0m         \u001b[39mif\u001b[39;00m wrong_fields:\n\u001b[1;32m    149\u001b[0m             \u001b[39mraise\u001b[39;00m \u001b[39mValueError\u001b[39;00m(\u001b[39m\"\u001b[39m\u001b[39mdict contains fields not in fieldnames: \u001b[39m\u001b[39m\"\u001b[39m\n\u001b[1;32m    150\u001b[0m                              \u001b[39m+\u001b[39m \u001b[39m\"\u001b[39m\u001b[39m, \u001b[39m\u001b[39m\"\u001b[39m\u001b[39m.\u001b[39mjoin([\u001b[39mrepr\u001b[39m(x) \u001b[39mfor\u001b[39;00m x \u001b[39min\u001b[39;00m wrong_fields]))\n",
      "File \u001b[0;32m/Library/Frameworks/Python.framework/Versions/3.11/lib/python3.11/site-packages/bs4/element.py:2428\u001b[0m, in \u001b[0;36mResultSet.__getattr__\u001b[0;34m(self, key)\u001b[0m\n\u001b[1;32m   2426\u001b[0m \u001b[39mdef\u001b[39;00m \u001b[39m__getattr__\u001b[39m(\u001b[39mself\u001b[39m, key):\n\u001b[1;32m   2427\u001b[0m \u001b[39m    \u001b[39m\u001b[39m\"\"\"Raise a helpful exception to explain a common code fix.\"\"\"\u001b[39;00m\n\u001b[0;32m-> 2428\u001b[0m     \u001b[39mraise\u001b[39;00m \u001b[39mAttributeError\u001b[39;00m(\n\u001b[1;32m   2429\u001b[0m         \u001b[39m\"\u001b[39m\u001b[39mResultSet object has no attribute \u001b[39m\u001b[39m'\u001b[39m\u001b[39m%s\u001b[39;00m\u001b[39m'\u001b[39m\u001b[39m. You\u001b[39m\u001b[39m'\u001b[39m\u001b[39mre probably treating a list of elements like a single element. Did you call find_all() when you meant to call find()?\u001b[39m\u001b[39m\"\u001b[39m \u001b[39m%\u001b[39m key\n\u001b[1;32m   2430\u001b[0m     )\n",
      "\u001b[0;31mAttributeError\u001b[0m: ResultSet object has no attribute 'keys'. You're probably treating a list of elements like a single element. Did you call find_all() when you meant to call find()?"
     ]
    }
   ],
   "source": [
    "from bs4 import BeautifulSoup\n",
    "import urllib\n",
    "import csv\n",
    "import time\n",
    "import random\n",
    "\n",
    "with open('polisci.csv', 'w') as f:\n",
    "    w = csv.DictWriter(f, fieldnames=('name', 'title', 'email', 'webpage', 'specialization')) # define columns\n",
    "    w.writeheader()\n",
    "    web_address = 'https://polisci.wustl.edu/people/list/88/all'\n",
    "    web_aux = 'https://polisci.wustl.edu'\n",
    "    web_page = urllib.request.urlopen(web_address)\n",
    "    soup = BeautifulSoup(web_page.read())\n",
    "    all_faculty = soup.find_all('h3')\n",
    "    for i in range(2, 10):\n",
    "        print(faculty)\n",
    "        faculty_i = all_faculty[2].find_all('a')\n",
    "        faculty['name'] = faculty_i[0].text\n",
    "        try:\n",
    "            inner_page_url = web_aux + faculty_i[0].attrs['href']\n",
    "            inner_page = urllib.request.urlopen(inner_page_url)\n",
    "            inner_soup = BeautifulSoup(inner_page.read())\n",
    "            faculty[\"title\"] = inner_soup.find('div', {'class' : 'title'}).text\n",
    "            faculty[\"email\"] = inner_soup.find('ul', {'class' : 'detail contact'.text})\n",
    "            faculty[\"webpage\"] = inner_soup.find('ul', {'class' : 'links'}).find('a').attrs['href']\n",
    "            faculty[\"specialization\"] = inner_soup.find('div', {'class':'post-excerpt'}).text\n",
    "        except:\n",
    "            faculty['name'] = 'NA'\n",
    "            faculty['title'] = 'NA'\n",
    "            faculty['email'] = 'NA'\n",
    "            faculty['webpage'] = 'NA'\n",
    "            faculty['specialization'] = 'NA'\n",
    "        w.writerow(faculty_i)\n",
    "        time.sleep(random.uniform(1, 5))\n"
   ]
  }
 ],
 "metadata": {
  "kernelspec": {
   "display_name": "base",
   "language": "python",
   "name": "python3"
  },
  "language_info": {
   "codemirror_mode": {
    "name": "ipython",
    "version": 3
   },
   "file_extension": ".py",
   "mimetype": "text/x-python",
   "name": "python",
   "nbconvert_exporter": "python",
   "pygments_lexer": "ipython3",
   "version": "3.11.4"
  },
  "orig_nbformat": 4
 },
 "nbformat": 4,
 "nbformat_minor": 2
}
