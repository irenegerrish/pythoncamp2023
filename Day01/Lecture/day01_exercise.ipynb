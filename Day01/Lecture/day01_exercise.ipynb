{
 "cells": [
  {
   "cell_type": "markdown",
   "metadata": {},
   "source": [
    "#### Day 1: Data Structures\n",
    "\n",
    "Instructions: \n",
    "\n",
    "1. Write a `for` loop, `white` loop, or a `function` (or all three!) to create a list of the first 10 numbers of the fibonacci sequence.\n",
    "    - Fibonacci sequence\n",
    "    - X_[i] = X_[i-1] + X_[i-2], where X_1 = 1, X_2 = 1\n",
    "    - 1,1,2,3,5,8,...\n",
    "2. Can you now do it for the first 30 numbers? \n",
    "3. Complete the functions with using your solutions \n",
    "\n",
    "\n",
    "\n"
   ]
  },
  {
   "cell_type": "code",
   "execution_count": null,
   "metadata": {},
   "outputs": [],
   "source": [
    "# return true if there is no e in 'word', else false\n",
    "def has_no_e(word):\n",
    "    # YOUR CODE HERE"
   ]
  },
  {
   "cell_type": "code",
   "execution_count": 6,
   "metadata": {},
   "outputs": [
    {
     "name": "stdout",
     "output_type": "stream",
     "text": [
      "2\n",
      "[1, 1, 2]\n",
      "3\n",
      "[1, 1, 2, 3]\n",
      "4\n",
      "[1, 1, 2, 3, 5]\n",
      "5\n",
      "[1, 1, 2, 3, 5, 8]\n",
      "6\n",
      "[1, 1, 2, 3, 5, 8, 13]\n",
      "7\n",
      "[1, 1, 2, 3, 5, 8, 13, 21]\n",
      "8\n",
      "[1, 1, 2, 3, 5, 8, 13, 21, 34]\n",
      "9\n",
      "[1, 1, 2, 3, 5, 8, 13, 21, 34, 55]\n"
     ]
    }
   ],
   "source": [
    "X = []\n",
    "X.append(1)\n",
    "X.append(1)\n",
    "for i in range(2, 10):\n",
    "    print(i)\n",
    "    X.append(X[i-1]+X[i-2])\n",
    "    print(X)\n",
    "\n",
    "\n"
   ]
  },
  {
   "cell_type": "code",
   "execution_count": null,
   "metadata": {},
   "outputs": [],
   "source": [
    "\n",
    "for i in range(1, 10):\n",
    "    X[i]=X[i-1]+X[i-2],\n",
    "    if X[1]==1, X[2]==1\n",
    "        print(i)"
   ]
  },
  {
   "cell_type": "code",
   "execution_count": null,
   "metadata": {},
   "outputs": [],
   "source": [
    "# return true if there is e in 'word', else false\n",
    "def has_e(word):\n",
    "    # YOUR CODE HERE"
   ]
  },
  {
   "cell_type": "code",
   "execution_count": 19,
   "metadata": {},
   "outputs": [
    {
     "data": {
      "text/plain": [
       "True"
      ]
     },
     "execution_count": 19,
     "metadata": {},
     "output_type": "execute_result"
    }
   ],
   "source": [
    "# return true if word1 contains only letters from word2, else false\n",
    "def uses_only(word1, word2):\n",
    "    letters1= [letter for letter in word1]\n",
    "    letters2= [letter for letter in word2]\n",
    "    for i in letters1:\n",
    "        if i not in letters2:\n",
    "            return False\n",
    "        else:\n",
    "            return True\n",
    "\n",
    "uses_only(\"alut\", \"Tula\")"
   ]
  },
  {
   "cell_type": "code",
   "execution_count": 20,
   "metadata": {},
   "outputs": [
    {
     "data": {
      "text/plain": [
       "True"
      ]
     },
     "execution_count": 20,
     "metadata": {},
     "output_type": "execute_result"
    }
   ],
   "source": [
    "# return true if word1 uses all the letters in word2, else false\n",
    "def uses_all(word1, word2):\n",
    "    letters1= [letter for letter in word1]\n",
    "    letters2= [letter for letter in word2]\n",
    "    for i in letters2:\n",
    "        if i not in letters1:\n",
    "            return False\n",
    "        return True\n",
    "\n",
    "uses_all(\"Road trip\", \"Road\")"
   ]
  },
  {
   "cell_type": "code",
   "execution_count": 21,
   "metadata": {},
   "outputs": [],
   "source": [
    "# return true or false \n",
    "# Is the word in alphabetical order? return True if yes, False if not. \n",
    "# Hint: check the methods for lists\n",
    "def is_abecedarian(word):\n",
    "    dir(is_abecedarian)\n",
    "    words= [letter for letter in word]"
   ]
  }
 ],
 "metadata": {
  "kernelspec": {
   "display_name": "base",
   "language": "python",
   "name": "python3"
  },
  "language_info": {
   "codemirror_mode": {
    "name": "ipython",
    "version": 3
   },
   "file_extension": ".py",
   "mimetype": "text/x-python",
   "name": "python",
   "nbconvert_exporter": "python",
   "pygments_lexer": "ipython3",
   "version": "3.11.4"
  },
  "orig_nbformat": 4
 },
 "nbformat": 4,
 "nbformat_minor": 2
}
