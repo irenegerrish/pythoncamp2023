{
 "cells": [
  {
   "cell_type": "markdown",
   "metadata": {},
   "source": [
    "#### Day07: Lab\n",
    "\n",
    "This lab focuses on extracting and displaying information from a database. \n",
    "\n",
    "Please run all the code chunks until you see the lab exercises (at the very bottom). "
   ]
  },
  {
   "cell_type": "code",
   "execution_count": 1,
   "metadata": {},
   "outputs": [
    {
     "name": "stdout",
     "output_type": "stream",
     "text": [
      "Requirement already satisfied: sqlalchemy in /Library/Frameworks/Python.framework/Versions/3.11/lib/python3.11/site-packages (2.0.20)\n",
      "Requirement already satisfied: typing-extensions>=4.2.0 in /Library/Frameworks/Python.framework/Versions/3.11/lib/python3.11/site-packages (from sqlalchemy) (4.7.1)\n"
     ]
    }
   ],
   "source": [
    "!pip3 install sqlalchemy\n",
    "import sqlalchemy\n",
    "from sqlalchemy.ext.declarative import declarative_base\n",
    "from sqlalchemy import Column, Integer, String, ForeignKey, and_, or_\n",
    "from sqlalchemy.orm import relationship, sessionmaker\n",
    "from sqlalchemy import func\n",
    "\n",
    "import warnings\n",
    "warnings.filterwarnings('ignore')"
   ]
  },
  {
   "cell_type": "code",
   "execution_count": 2,
   "metadata": {},
   "outputs": [],
   "source": [
    "# Setting things up:\n",
    "engine = sqlalchemy.create_engine('sqlite:///geog.db')\n",
    "Base = declarative_base() "
   ]
  },
  {
   "cell_type": "code",
   "execution_count": 3,
   "metadata": {},
   "outputs": [],
   "source": [
    "# Schemas\n",
    "class Region(Base):\n",
    "  __tablename__ = 'regions'\n",
    "\n",
    "  id = Column(Integer, primary_key=True)\n",
    "  name = Column(String)\n",
    "  departments = relationship(\"Department\", backref = \"region\")\n",
    "\n",
    "  def __init__(self, name):\n",
    "    self.name = name \n",
    "\n",
    "  def __repr__(self):\n",
    "    return \"<Region('%s')>\" % self.id "
   ]
  },
  {
   "cell_type": "code",
   "execution_count": 4,
   "metadata": {},
   "outputs": [],
   "source": [
    "class Department(Base):\n",
    "  __tablename__ = 'departments'\n",
    "\n",
    "  id = Column(Integer, primary_key=True)\n",
    "  deptname = Column(String)\n",
    "  region_id = Column(Integer, ForeignKey('regions.id')) \n",
    "  towns = relationship(\"Town\", backref = \"department\")\n",
    "\n",
    "  def __init__(self, deptname):\n",
    "    self.deptname = deptname \n",
    "\n",
    "  def __repr__(self):\n",
    "    return \"<Department('%s')>\" % self.id "
   ]
  },
  {
   "cell_type": "code",
   "execution_count": 5,
   "metadata": {},
   "outputs": [],
   "source": [
    "class Town(Base):\n",
    "  __tablename__ = 'towns'\n",
    "\n",
    "  id = Column(Integer, primary_key=True)\n",
    "  name = Column(String)\n",
    "  population = Column(Integer)\n",
    "  dept_id = Column(Integer, ForeignKey('departments.id'))\n",
    "\n",
    "  def __init__(self, name, population):\n",
    "    self.name = name \n",
    "    self.population = population\n",
    "\n",
    "  def __repr__(self):\n",
    "    return \"<Town('%s')>\" % (self.name)"
   ]
  },
  {
   "cell_type": "code",
   "execution_count": 6,
   "metadata": {},
   "outputs": [],
   "source": [
    "#First time create tables\n",
    "Base.metadata.create_all(engine) "
   ]
  },
  {
   "cell_type": "code",
   "execution_count": 7,
   "metadata": {},
   "outputs": [],
   "source": [
    "#Create a session to actually store things in the db\n",
    "Session = sessionmaker(bind=engine)\n",
    "session = Session()"
   ]
  },
  {
   "cell_type": "code",
   "execution_count": 8,
   "metadata": {},
   "outputs": [],
   "source": [
    "# Create regions\n",
    "reg1 = Region('Region 1')\n",
    "reg2 = Region('Region 2')\n",
    "reg3 = Region('Region 3')"
   ]
  },
  {
   "cell_type": "code",
   "execution_count": 9,
   "metadata": {},
   "outputs": [],
   "source": [
    "# Create departments, nested in regions\n",
    "dept1 = Department('Department 1')\n",
    "reg1.departments.append(dept1)\n",
    "\n",
    "dept2 = Department('Department 2')\n",
    "reg1.departments.append(dept2)\n",
    "\n",
    "dept3 = Department('Department 3')\n",
    "reg3.departments.append(dept3)\n",
    "\n",
    "dept4 = Department('Department 4')\n",
    "reg2.departments.append(dept4)\n"
   ]
  },
  {
   "cell_type": "code",
   "execution_count": 10,
   "metadata": {},
   "outputs": [],
   "source": [
    "# Create towns, nested in departments\n",
    "t1 = Town(\"a\", 10000)\n",
    "t2 = Town(\"b\", 20000)\n",
    "dept1.towns = [t1, t2]\n",
    "\n",
    "t3 = Town(\"c\", 30000)\n",
    "t4 = Town(\"d\", 40000)\n",
    "dept2.towns = [t3, t4]\n",
    "\n",
    "t5 = Town(\"e\", 50000)\n",
    "t6 = Town(\"f\", 60000)\n",
    "dept3.towns = [t5, t6]\n",
    "\n",
    "t7 = Town(\"g\", 70000)\n",
    "t8 = Town(\"h\", 80000)\n",
    "dept4.towns = [t7, t8]"
   ]
  },
  {
   "cell_type": "code",
   "execution_count": 11,
   "metadata": {},
   "outputs": [],
   "source": [
    "session.add_all([reg1, reg2, reg3])\n",
    "session.add_all([dept1, dept2, dept3, dept4])\n",
    "session.add_all([t1, t2, t3, t4, t5, t6, t7, t8])\n",
    "\n",
    "session.commit()"
   ]
  },
  {
   "cell_type": "markdown",
   "metadata": {},
   "source": [
    "1. Print all of the towns, and order them by Town.id in descending order."
   ]
  },
  {
   "cell_type": "code",
   "execution_count": 25,
   "metadata": {},
   "outputs": [
    {
     "ename": "AttributeError",
     "evalue": "'InstanceState' object has no attribute '_post_inspect'",
     "output_type": "error",
     "traceback": [
      "\u001b[0;31m---------------------------------------------------------------------------\u001b[0m",
      "\u001b[0;31mAttributeError\u001b[0m                            Traceback (most recent call last)",
      "Cell \u001b[0;32mIn[25], line 1\u001b[0m\n\u001b[0;32m----> 1\u001b[0m \u001b[39mfor\u001b[39;00m town \u001b[39min\u001b[39;00m session\u001b[39m.\u001b[39;49mquery(Town)\u001b[39m.\u001b[39morder_by(Town\u001b[39m.\u001b[39mid\u001b[39m.\u001b[39mdesc()):\n\u001b[1;32m      2\u001b[0m     \u001b[39mprint\u001b[39m(town\u001b[39m.\u001b[39mname, town\u001b[39m.\u001b[39mid)\n",
      "File \u001b[0;32m/Library/Frameworks/Python.framework/Versions/3.11/lib/python3.11/site-packages/sqlalchemy/orm/session.py:2830\u001b[0m, in \u001b[0;36mSession.query\u001b[0;34m(self, *entities, **kwargs)\u001b[0m\n\u001b[1;32m   2810\u001b[0m \u001b[39mdef\u001b[39;00m \u001b[39mquery\u001b[39m(\n\u001b[1;32m   2811\u001b[0m     \u001b[39mself\u001b[39m, \u001b[39m*\u001b[39mentities: _ColumnsClauseArgument[Any], \u001b[39m*\u001b[39m\u001b[39m*\u001b[39mkwargs: Any\n\u001b[1;32m   2812\u001b[0m ) \u001b[39m-\u001b[39m\u001b[39m>\u001b[39m Query[Any]:\n\u001b[1;32m   2813\u001b[0m \u001b[39m    \u001b[39m\u001b[39m\"\"\"Return a new :class:`_query.Query` object corresponding to this\u001b[39;00m\n\u001b[1;32m   2814\u001b[0m \u001b[39m    :class:`_orm.Session`.\u001b[39;00m\n\u001b[1;32m   2815\u001b[0m \n\u001b[0;32m   (...)\u001b[0m\n\u001b[1;32m   2827\u001b[0m \n\u001b[1;32m   2828\u001b[0m \u001b[39m    \"\"\"\u001b[39;00m\n\u001b[0;32m-> 2830\u001b[0m     \u001b[39mreturn\u001b[39;00m \u001b[39mself\u001b[39;49m\u001b[39m.\u001b[39;49m_query_cls(entities, \u001b[39mself\u001b[39;49m, \u001b[39m*\u001b[39;49m\u001b[39m*\u001b[39;49mkwargs)\n",
      "File \u001b[0;32m/Library/Frameworks/Python.framework/Versions/3.11/lib/python3.11/site-packages/sqlalchemy/orm/query.py:274\u001b[0m, in \u001b[0;36mQuery.__init__\u001b[0;34m(self, entities, session)\u001b[0m\n\u001b[1;32m    268\u001b[0m \u001b[39m# session is usually present.  There's one case in subqueryloader\u001b[39;00m\n\u001b[1;32m    269\u001b[0m \u001b[39m# where it stores a Query without a Session and also there are tests\u001b[39;00m\n\u001b[1;32m    270\u001b[0m \u001b[39m# for the query(Entity).with_session(session) API which is likely in\u001b[39;00m\n\u001b[1;32m    271\u001b[0m \u001b[39m# some old recipes, however these are legacy as select() can now be\u001b[39;00m\n\u001b[1;32m    272\u001b[0m \u001b[39m# used.\u001b[39;00m\n\u001b[1;32m    273\u001b[0m \u001b[39mself\u001b[39m\u001b[39m.\u001b[39msession \u001b[39m=\u001b[39m session  \u001b[39m# type: ignore\u001b[39;00m\n\u001b[0;32m--> 274\u001b[0m \u001b[39mself\u001b[39;49m\u001b[39m.\u001b[39;49m_set_entities(entities)\n",
      "File \u001b[0;32m/Library/Frameworks/Python.framework/Versions/3.11/lib/python3.11/site-packages/sqlalchemy/orm/query.py:283\u001b[0m, in \u001b[0;36mQuery._set_entities\u001b[0;34m(self, entities)\u001b[0m\n\u001b[1;32m    280\u001b[0m \u001b[39mdef\u001b[39;00m \u001b[39m_set_entities\u001b[39m(\n\u001b[1;32m    281\u001b[0m     \u001b[39mself\u001b[39m, entities: Iterable[_ColumnsClauseArgument[Any]]\n\u001b[1;32m    282\u001b[0m ) \u001b[39m-\u001b[39m\u001b[39m>\u001b[39m \u001b[39mNone\u001b[39;00m:\n\u001b[0;32m--> 283\u001b[0m     \u001b[39mself\u001b[39m\u001b[39m.\u001b[39m_raw_columns \u001b[39m=\u001b[39m [\n\u001b[1;32m    284\u001b[0m         coercions\u001b[39m.\u001b[39;49mexpect(\n\u001b[1;32m    285\u001b[0m             roles\u001b[39m.\u001b[39;49mColumnsClauseRole,\n\u001b[1;32m    286\u001b[0m             ent,\n\u001b[1;32m    287\u001b[0m             apply_propagate_attrs\u001b[39m=\u001b[39;49m\u001b[39mself\u001b[39;49m,\n\u001b[1;32m    288\u001b[0m             post_inspect\u001b[39m=\u001b[39;49m\u001b[39mTrue\u001b[39;49;00m,\n\u001b[1;32m    289\u001b[0m         )\n\u001b[1;32m    290\u001b[0m         \u001b[39mfor\u001b[39;49;00m ent \u001b[39min\u001b[39;49;00m util\u001b[39m.\u001b[39;49mto_list(entities)\n\u001b[1;32m    291\u001b[0m     ]\n",
      "File \u001b[0;32m/Library/Frameworks/Python.framework/Versions/3.11/lib/python3.11/site-packages/sqlalchemy/orm/query.py:284\u001b[0m, in \u001b[0;36m<listcomp>\u001b[0;34m(.0)\u001b[0m\n\u001b[1;32m    280\u001b[0m \u001b[39mdef\u001b[39;00m \u001b[39m_set_entities\u001b[39m(\n\u001b[1;32m    281\u001b[0m     \u001b[39mself\u001b[39m, entities: Iterable[_ColumnsClauseArgument[Any]]\n\u001b[1;32m    282\u001b[0m ) \u001b[39m-\u001b[39m\u001b[39m>\u001b[39m \u001b[39mNone\u001b[39;00m:\n\u001b[1;32m    283\u001b[0m     \u001b[39mself\u001b[39m\u001b[39m.\u001b[39m_raw_columns \u001b[39m=\u001b[39m [\n\u001b[0;32m--> 284\u001b[0m         coercions\u001b[39m.\u001b[39;49mexpect(\n\u001b[1;32m    285\u001b[0m             roles\u001b[39m.\u001b[39;49mColumnsClauseRole,\n\u001b[1;32m    286\u001b[0m             ent,\n\u001b[1;32m    287\u001b[0m             apply_propagate_attrs\u001b[39m=\u001b[39;49m\u001b[39mself\u001b[39;49m,\n\u001b[1;32m    288\u001b[0m             post_inspect\u001b[39m=\u001b[39;49m\u001b[39mTrue\u001b[39;49;00m,\n\u001b[1;32m    289\u001b[0m         )\n\u001b[1;32m    290\u001b[0m         \u001b[39mfor\u001b[39;00m ent \u001b[39min\u001b[39;00m util\u001b[39m.\u001b[39mto_list(entities)\n\u001b[1;32m    291\u001b[0m     ]\n",
      "File \u001b[0;32m/Library/Frameworks/Python.framework/Versions/3.11/lib/python3.11/site-packages/sqlalchemy/sql/coercions.py:406\u001b[0m, in \u001b[0;36mexpect\u001b[0;34m(role, element, apply_propagate_attrs, argname, post_inspect, disable_inspection, **kw)\u001b[0m\n\u001b[1;32m    404\u001b[0m \u001b[39mif\u001b[39;00m insp \u001b[39mis\u001b[39;00m \u001b[39mnot\u001b[39;00m \u001b[39mNone\u001b[39;00m:\n\u001b[1;32m    405\u001b[0m     \u001b[39mif\u001b[39;00m post_inspect:\n\u001b[0;32m--> 406\u001b[0m         insp\u001b[39m.\u001b[39;49m_post_inspect\n\u001b[1;32m    407\u001b[0m     \u001b[39mtry\u001b[39;00m:\n\u001b[1;32m    408\u001b[0m         resolved \u001b[39m=\u001b[39m insp\u001b[39m.\u001b[39m__clause_element__()\n",
      "\u001b[0;31mAttributeError\u001b[0m: 'InstanceState' object has no attribute '_post_inspect'"
     ]
    }
   ],
   "source": [
    "for town in session.query(Town).order_by(Town.id.desc()):\n",
    "    print(town.name, town.id)"
   ]
  },
  {
   "cell_type": "markdown",
   "metadata": {},
   "source": [
    "2. Display, by department, the cities having more than 50,000 inhabitants."
   ]
  },
  {
   "cell_type": "code",
   "execution_count": 21,
   "metadata": {},
   "outputs": [
    {
     "ename": "AttributeError",
     "evalue": "'InstanceState' object has no attribute '_post_inspect'",
     "output_type": "error",
     "traceback": [
      "\u001b[0;31m---------------------------------------------------------------------------\u001b[0m",
      "\u001b[0;31mAttributeError\u001b[0m                            Traceback (most recent call last)",
      "Cell \u001b[0;32mIn[21], line 1\u001b[0m\n\u001b[0;32m----> 1\u001b[0m \u001b[39mfor\u001b[39;00m Town \u001b[39min\u001b[39;00m session\u001b[39m.\u001b[39;49mquery(Town)\u001b[39m.\u001b[39mjoing(Department)\u001b[39m.\u001b[39mfilter(Town\u001b[39m.\u001b[39mpopulation \u001b[39m>\u001b[39m \u001b[39m50000\u001b[39m)\u001b[39m.\u001b[39morder_by(Department\u001b[39m.\u001b[39mid\u001b[39m.\u001b[39mdesc()):\n\u001b[1;32m      2\u001b[0m     \u001b[39mprint\u001b[39m(town\u001b[39m.\u001b[39mid, town\u001b[39m.\u001b[39mname, town\u001b[39m.\u001b[39mpopulation, town\u001b[39m.\u001b[39mdepartment\u001b[39m.\u001b[39mdeptname)\n",
      "File \u001b[0;32m/Library/Frameworks/Python.framework/Versions/3.11/lib/python3.11/site-packages/sqlalchemy/orm/session.py:2830\u001b[0m, in \u001b[0;36mSession.query\u001b[0;34m(self, *entities, **kwargs)\u001b[0m\n\u001b[1;32m   2810\u001b[0m \u001b[39mdef\u001b[39;00m \u001b[39mquery\u001b[39m(\n\u001b[1;32m   2811\u001b[0m     \u001b[39mself\u001b[39m, \u001b[39m*\u001b[39mentities: _ColumnsClauseArgument[Any], \u001b[39m*\u001b[39m\u001b[39m*\u001b[39mkwargs: Any\n\u001b[1;32m   2812\u001b[0m ) \u001b[39m-\u001b[39m\u001b[39m>\u001b[39m Query[Any]:\n\u001b[1;32m   2813\u001b[0m \u001b[39m    \u001b[39m\u001b[39m\"\"\"Return a new :class:`_query.Query` object corresponding to this\u001b[39;00m\n\u001b[1;32m   2814\u001b[0m \u001b[39m    :class:`_orm.Session`.\u001b[39;00m\n\u001b[1;32m   2815\u001b[0m \n\u001b[0;32m   (...)\u001b[0m\n\u001b[1;32m   2827\u001b[0m \n\u001b[1;32m   2828\u001b[0m \u001b[39m    \"\"\"\u001b[39;00m\n\u001b[0;32m-> 2830\u001b[0m     \u001b[39mreturn\u001b[39;00m \u001b[39mself\u001b[39;49m\u001b[39m.\u001b[39;49m_query_cls(entities, \u001b[39mself\u001b[39;49m, \u001b[39m*\u001b[39;49m\u001b[39m*\u001b[39;49mkwargs)\n",
      "File \u001b[0;32m/Library/Frameworks/Python.framework/Versions/3.11/lib/python3.11/site-packages/sqlalchemy/orm/query.py:274\u001b[0m, in \u001b[0;36mQuery.__init__\u001b[0;34m(self, entities, session)\u001b[0m\n\u001b[1;32m    268\u001b[0m \u001b[39m# session is usually present.  There's one case in subqueryloader\u001b[39;00m\n\u001b[1;32m    269\u001b[0m \u001b[39m# where it stores a Query without a Session and also there are tests\u001b[39;00m\n\u001b[1;32m    270\u001b[0m \u001b[39m# for the query(Entity).with_session(session) API which is likely in\u001b[39;00m\n\u001b[1;32m    271\u001b[0m \u001b[39m# some old recipes, however these are legacy as select() can now be\u001b[39;00m\n\u001b[1;32m    272\u001b[0m \u001b[39m# used.\u001b[39;00m\n\u001b[1;32m    273\u001b[0m \u001b[39mself\u001b[39m\u001b[39m.\u001b[39msession \u001b[39m=\u001b[39m session  \u001b[39m# type: ignore\u001b[39;00m\n\u001b[0;32m--> 274\u001b[0m \u001b[39mself\u001b[39;49m\u001b[39m.\u001b[39;49m_set_entities(entities)\n",
      "File \u001b[0;32m/Library/Frameworks/Python.framework/Versions/3.11/lib/python3.11/site-packages/sqlalchemy/orm/query.py:283\u001b[0m, in \u001b[0;36mQuery._set_entities\u001b[0;34m(self, entities)\u001b[0m\n\u001b[1;32m    280\u001b[0m \u001b[39mdef\u001b[39;00m \u001b[39m_set_entities\u001b[39m(\n\u001b[1;32m    281\u001b[0m     \u001b[39mself\u001b[39m, entities: Iterable[_ColumnsClauseArgument[Any]]\n\u001b[1;32m    282\u001b[0m ) \u001b[39m-\u001b[39m\u001b[39m>\u001b[39m \u001b[39mNone\u001b[39;00m:\n\u001b[0;32m--> 283\u001b[0m     \u001b[39mself\u001b[39m\u001b[39m.\u001b[39m_raw_columns \u001b[39m=\u001b[39m [\n\u001b[1;32m    284\u001b[0m         coercions\u001b[39m.\u001b[39;49mexpect(\n\u001b[1;32m    285\u001b[0m             roles\u001b[39m.\u001b[39;49mColumnsClauseRole,\n\u001b[1;32m    286\u001b[0m             ent,\n\u001b[1;32m    287\u001b[0m             apply_propagate_attrs\u001b[39m=\u001b[39;49m\u001b[39mself\u001b[39;49m,\n\u001b[1;32m    288\u001b[0m             post_inspect\u001b[39m=\u001b[39;49m\u001b[39mTrue\u001b[39;49;00m,\n\u001b[1;32m    289\u001b[0m         )\n\u001b[1;32m    290\u001b[0m         \u001b[39mfor\u001b[39;49;00m ent \u001b[39min\u001b[39;49;00m util\u001b[39m.\u001b[39;49mto_list(entities)\n\u001b[1;32m    291\u001b[0m     ]\n",
      "File \u001b[0;32m/Library/Frameworks/Python.framework/Versions/3.11/lib/python3.11/site-packages/sqlalchemy/orm/query.py:284\u001b[0m, in \u001b[0;36m<listcomp>\u001b[0;34m(.0)\u001b[0m\n\u001b[1;32m    280\u001b[0m \u001b[39mdef\u001b[39;00m \u001b[39m_set_entities\u001b[39m(\n\u001b[1;32m    281\u001b[0m     \u001b[39mself\u001b[39m, entities: Iterable[_ColumnsClauseArgument[Any]]\n\u001b[1;32m    282\u001b[0m ) \u001b[39m-\u001b[39m\u001b[39m>\u001b[39m \u001b[39mNone\u001b[39;00m:\n\u001b[1;32m    283\u001b[0m     \u001b[39mself\u001b[39m\u001b[39m.\u001b[39m_raw_columns \u001b[39m=\u001b[39m [\n\u001b[0;32m--> 284\u001b[0m         coercions\u001b[39m.\u001b[39;49mexpect(\n\u001b[1;32m    285\u001b[0m             roles\u001b[39m.\u001b[39;49mColumnsClauseRole,\n\u001b[1;32m    286\u001b[0m             ent,\n\u001b[1;32m    287\u001b[0m             apply_propagate_attrs\u001b[39m=\u001b[39;49m\u001b[39mself\u001b[39;49m,\n\u001b[1;32m    288\u001b[0m             post_inspect\u001b[39m=\u001b[39;49m\u001b[39mTrue\u001b[39;49;00m,\n\u001b[1;32m    289\u001b[0m         )\n\u001b[1;32m    290\u001b[0m         \u001b[39mfor\u001b[39;00m ent \u001b[39min\u001b[39;00m util\u001b[39m.\u001b[39mto_list(entities)\n\u001b[1;32m    291\u001b[0m     ]\n",
      "File \u001b[0;32m/Library/Frameworks/Python.framework/Versions/3.11/lib/python3.11/site-packages/sqlalchemy/sql/coercions.py:406\u001b[0m, in \u001b[0;36mexpect\u001b[0;34m(role, element, apply_propagate_attrs, argname, post_inspect, disable_inspection, **kw)\u001b[0m\n\u001b[1;32m    404\u001b[0m \u001b[39mif\u001b[39;00m insp \u001b[39mis\u001b[39;00m \u001b[39mnot\u001b[39;00m \u001b[39mNone\u001b[39;00m:\n\u001b[1;32m    405\u001b[0m     \u001b[39mif\u001b[39;00m post_inspect:\n\u001b[0;32m--> 406\u001b[0m         insp\u001b[39m.\u001b[39;49m_post_inspect\n\u001b[1;32m    407\u001b[0m     \u001b[39mtry\u001b[39;00m:\n\u001b[1;32m    408\u001b[0m         resolved \u001b[39m=\u001b[39m insp\u001b[39m.\u001b[39m__clause_element__()\n",
      "\u001b[0;31mAttributeError\u001b[0m: 'InstanceState' object has no attribute '_post_inspect'"
     ]
    }
   ],
   "source": [
    "for Town in session.query(Town).joing(Department).filter(Town.population > 50000).order_by(Department.id.desc()):\n",
    "    print(town.id, town.name, town.population, town.department.deptname)"
   ]
  },
  {
   "cell_type": "markdown",
   "metadata": {},
   "source": [
    "3. Display the total number of inhabitants per department using only a query. (no lists!)"
   ]
  },
  {
   "cell_type": "code",
   "execution_count": 29,
   "metadata": {},
   "outputs": [
    {
     "ename": "ArgumentError",
     "evalue": "ORDER BY expression expected, got <class '__main__.Department'>.",
     "output_type": "error",
     "traceback": [
      "\u001b[0;31m---------------------------------------------------------------------------\u001b[0m",
      "\u001b[0;31mArgumentError\u001b[0m                             Traceback (most recent call last)",
      "Cell \u001b[0;32mIn[29], line 1\u001b[0m\n\u001b[0;32m----> 1\u001b[0m \u001b[39mfor\u001b[39;00m town \u001b[39min\u001b[39;00m session\u001b[39m.\u001b[39;49mquery(Department\u001b[39m.\u001b[39;49mdeptname, func\u001b[39m.\u001b[39;49msum(Town\u001b[39m.\u001b[39;49mpopulation)\u001b[39m.\u001b[39;49mlabel(\u001b[39m\"\u001b[39;49m\u001b[39msum_inhab\u001b[39;49m\u001b[39m\"\u001b[39;49m))\u001b[39m.\u001b[39;49mjoin(Department)\u001b[39m.\u001b[39;49morder_by(Department):\n\u001b[1;32m      2\u001b[0m     \u001b[39mprint\u001b[39m(town\u001b[39m.\u001b[39mdeptname, town\u001b[39m.\u001b[39msum_inhab)\n",
      "File \u001b[0;32m<string>:2\u001b[0m, in \u001b[0;36morder_by\u001b[0;34m(self, _Query__first, *clauses)\u001b[0m\n",
      "File \u001b[0;32m/Library/Frameworks/Python.framework/Versions/3.11/lib/python3.11/site-packages/sqlalchemy/sql/base.py:283\u001b[0m, in \u001b[0;36m_generative.<locals>._generative\u001b[0;34m(fn, self, *args, **kw)\u001b[0m\n\u001b[1;32m    280\u001b[0m \u001b[39m\u001b[39m\u001b[39m\"\"\"Mark a method as generative.\"\"\"\u001b[39;00m\n\u001b[1;32m    282\u001b[0m \u001b[39mself\u001b[39m \u001b[39m=\u001b[39m \u001b[39mself\u001b[39m\u001b[39m.\u001b[39m_generate()\n\u001b[0;32m--> 283\u001b[0m x \u001b[39m=\u001b[39m fn(\u001b[39mself\u001b[39;49m, \u001b[39m*\u001b[39;49margs, \u001b[39m*\u001b[39;49m\u001b[39m*\u001b[39;49mkw)\n\u001b[1;32m    284\u001b[0m \u001b[39massert\u001b[39;00m x \u001b[39mis\u001b[39;00m \u001b[39mself\u001b[39m, \u001b[39m\"\u001b[39m\u001b[39mgenerative methods must return self\u001b[39m\u001b[39m\"\u001b[39m\n\u001b[1;32m    285\u001b[0m \u001b[39mreturn\u001b[39;00m \u001b[39mself\u001b[39m\n",
      "File \u001b[0;32m/Library/Frameworks/Python.framework/Versions/3.11/lib/python3.11/site-packages/sqlalchemy/orm/query.py:2047\u001b[0m, in \u001b[0;36mQuery.order_by\u001b[0;34m(self, _Query__first, *clauses)\u001b[0m\n\u001b[1;32m   2045\u001b[0m     \u001b[39mself\u001b[39m\u001b[39m.\u001b[39m_order_by_clauses \u001b[39m=\u001b[39m ()\n\u001b[1;32m   2046\u001b[0m \u001b[39melif\u001b[39;00m __first \u001b[39mis\u001b[39;00m \u001b[39mnot\u001b[39;00m _NoArg\u001b[39m.\u001b[39mNO_ARG:\n\u001b[0;32m-> 2047\u001b[0m     criterion \u001b[39m=\u001b[39m \u001b[39mtuple\u001b[39m(\n\u001b[1;32m   2048\u001b[0m         coercions\u001b[39m.\u001b[39mexpect(roles\u001b[39m.\u001b[39mOrderByRole, clause)\n\u001b[1;32m   2049\u001b[0m         \u001b[39mfor\u001b[39;00m clause \u001b[39min\u001b[39;00m (__first,) \u001b[39m+\u001b[39m clauses\n\u001b[1;32m   2050\u001b[0m     )\n\u001b[1;32m   2051\u001b[0m     \u001b[39mself\u001b[39m\u001b[39m.\u001b[39m_order_by_clauses \u001b[39m+\u001b[39m\u001b[39m=\u001b[39m criterion\n\u001b[1;32m   2053\u001b[0m \u001b[39mreturn\u001b[39;00m \u001b[39mself\u001b[39m\n",
      "File \u001b[0;32m/Library/Frameworks/Python.framework/Versions/3.11/lib/python3.11/site-packages/sqlalchemy/orm/query.py:2048\u001b[0m, in \u001b[0;36m<genexpr>\u001b[0;34m(.0)\u001b[0m\n\u001b[1;32m   2045\u001b[0m     \u001b[39mself\u001b[39m\u001b[39m.\u001b[39m_order_by_clauses \u001b[39m=\u001b[39m ()\n\u001b[1;32m   2046\u001b[0m \u001b[39melif\u001b[39;00m __first \u001b[39mis\u001b[39;00m \u001b[39mnot\u001b[39;00m _NoArg\u001b[39m.\u001b[39mNO_ARG:\n\u001b[1;32m   2047\u001b[0m     criterion \u001b[39m=\u001b[39m \u001b[39mtuple\u001b[39m(\n\u001b[0;32m-> 2048\u001b[0m         coercions\u001b[39m.\u001b[39;49mexpect(roles\u001b[39m.\u001b[39;49mOrderByRole, clause)\n\u001b[1;32m   2049\u001b[0m         \u001b[39mfor\u001b[39;00m clause \u001b[39min\u001b[39;00m (__first,) \u001b[39m+\u001b[39m clauses\n\u001b[1;32m   2050\u001b[0m     )\n\u001b[1;32m   2051\u001b[0m     \u001b[39mself\u001b[39m\u001b[39m.\u001b[39m_order_by_clauses \u001b[39m+\u001b[39m\u001b[39m=\u001b[39m criterion\n\u001b[1;32m   2053\u001b[0m \u001b[39mreturn\u001b[39;00m \u001b[39mself\u001b[39m\n",
      "File \u001b[0;32m/Library/Frameworks/Python.framework/Versions/3.11/lib/python3.11/site-packages/sqlalchemy/sql/coercions.py:413\u001b[0m, in \u001b[0;36mexpect\u001b[0;34m(role, element, apply_propagate_attrs, argname, post_inspect, disable_inspection, **kw)\u001b[0m\n\u001b[1;32m    410\u001b[0m                 impl\u001b[39m.\u001b[39m_raise_for_expected(original_element, argname)\n\u001b[1;32m    412\u001b[0m     \u001b[39mif\u001b[39;00m resolved \u001b[39mis\u001b[39;00m \u001b[39mNone\u001b[39;00m:\n\u001b[0;32m--> 413\u001b[0m         resolved \u001b[39m=\u001b[39m impl\u001b[39m.\u001b[39;49m_literal_coercion(\n\u001b[1;32m    414\u001b[0m             element, argname\u001b[39m=\u001b[39;49margname, \u001b[39m*\u001b[39;49m\u001b[39m*\u001b[39;49mkw\n\u001b[1;32m    415\u001b[0m         )\n\u001b[1;32m    416\u001b[0m \u001b[39melse\u001b[39;00m:\n\u001b[1;32m    417\u001b[0m     resolved \u001b[39m=\u001b[39m element\n",
      "File \u001b[0;32m/Library/Frameworks/Python.framework/Versions/3.11/lib/python3.11/site-packages/sqlalchemy/sql/coercions.py:651\u001b[0m, in \u001b[0;36m_CoerceLiterals._literal_coercion\u001b[0;34m(self, element, argname, **kw)\u001b[0m\n\u001b[1;32m    648\u001b[0m \u001b[39mif\u001b[39;00m \u001b[39mself\u001b[39m\u001b[39m.\u001b[39m_coerce_numerics \u001b[39mand\u001b[39;00m \u001b[39misinstance\u001b[39m(element, (numbers\u001b[39m.\u001b[39mNumber)):\n\u001b[1;32m    649\u001b[0m     \u001b[39mreturn\u001b[39;00m elements\u001b[39m.\u001b[39mColumnClause(\u001b[39mstr\u001b[39m(element), is_literal\u001b[39m=\u001b[39m\u001b[39mTrue\u001b[39;00m)\n\u001b[0;32m--> 651\u001b[0m \u001b[39mself\u001b[39;49m\u001b[39m.\u001b[39;49m_raise_for_expected(element, argname)\n",
      "File \u001b[0;32m/Library/Frameworks/Python.framework/Versions/3.11/lib/python3.11/site-packages/sqlalchemy/sql/coercions.py:535\u001b[0m, in \u001b[0;36mRoleImpl._raise_for_expected\u001b[0;34m(self, element, argname, resolved, advice, code, err, **kw)\u001b[0m\n\u001b[1;32m    532\u001b[0m \u001b[39mif\u001b[39;00m advice:\n\u001b[1;32m    533\u001b[0m     msg \u001b[39m+\u001b[39m\u001b[39m=\u001b[39m \u001b[39m\"\u001b[39m\u001b[39m \u001b[39m\u001b[39m\"\u001b[39m \u001b[39m+\u001b[39m advice\n\u001b[0;32m--> 535\u001b[0m \u001b[39mraise\u001b[39;00m exc\u001b[39m.\u001b[39mArgumentError(msg, code\u001b[39m=\u001b[39mcode) \u001b[39mfrom\u001b[39;00m \u001b[39merr\u001b[39;00m\n",
      "\u001b[0;31mArgumentError\u001b[0m: ORDER BY expression expected, got <class '__main__.Department'>."
     ]
    }
   ],
   "source": [
    "\n",
    "for town in session.query(Department.deptname, func.sum(Town.population).label(\"sum_inhab\")).join(Department).order_by(Department):\n",
    "    print(town.deptname, town.sum_inhab)"
   ]
  },
  {
   "cell_type": "code",
   "execution_count": null,
   "metadata": {},
   "outputs": [],
   "source": []
  },
  {
   "cell_type": "code",
   "execution_count": null,
   "metadata": {},
   "outputs": [],
   "source": []
  }
 ],
 "metadata": {
  "kernelspec": {
   "display_name": "base",
   "language": "python",
   "name": "python3"
  },
  "language_info": {
   "codemirror_mode": {
    "name": "ipython",
    "version": 3
   },
   "file_extension": ".py",
   "mimetype": "text/x-python",
   "name": "python",
   "nbconvert_exporter": "python",
   "pygments_lexer": "ipython3",
   "version": "3.11.4"
  },
  "orig_nbformat": 4
 },
 "nbformat": 4,
 "nbformat_minor": 2
}
