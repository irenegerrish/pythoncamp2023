{
 "cells": [
  {
   "cell_type": "markdown",
   "metadata": {},
   "source": [
    "1. Change to your working directory. Open text file of 2008 NH primary Obama speech"
   ]
  },
  {
   "cell_type": "code",
   "execution_count": 30,
   "metadata": {},
   "outputs": [
    {
     "name": "stdout",
     "output_type": "stream",
     "text": [
      "['I want to congratulate Senator Clinton on a hard-fought victory here in\\n', 'New Hampshire.\\n', '\\n', \"A few weeks ago, no one imagined that we'd have accomplished what we did\\n\", 'here tonight. For most of this campaign, we were far behind, and we\\n', 'always knew our climb would be steep. But in record numbers, you came\\n', 'out and spoke up for change. And with your voices and your votes, you\\n', 'made it clear that at this moment - in this election - there is\\n', 'something happening in America.\\n', '\\n', 'There is something happening when men and women in Des Moines and\\n', 'Davenport; in Lebanon and Concord come out in the snows of January to\\n', 'wait in lines that stretch block after block because they believe in\\n', 'what this country can be.\\n', '\\n', 'There is something happening when Americans who are young in age and in\\n', 'spirit - who have never before participated in politics - turn out in\\n', \"numbers we've never seen because they know in their hearts that this\\n\", 'time must be different.\\n', '\\n', 'There is something happening when people vote not just for the party\\n', 'they belong to but the hopes they hold in common - that whether we are\\n', 'rich or poor; black or white; Latino or Asian; whether we hail from Iowa\\n', 'or New Hampshire, Nevada or South Carolina, we are ready to take this\\n', \"country in a fundamentally new direction. That is what's happening in\\n\", \"America right now. Change is what's happening in America.\\n\", '\\n', 'You can be the new majority who can lead this nation out of a long\\n', 'political darkness - Democrats, Independents and Republicans who are\\n', 'tired of the division and distraction that has clouded Washington; who\\n', 'know that we can disagree without being disagreeable; who understand\\n', 'that if we mobilize our voices to challenge the money and influence\\n', \"that's stood in our way and challenge ourselves to reach for something\\n\", \"better, there's no problem we can't solve - no destiny we cannot\\n\", 'fulfill.\\n', '\\n', 'Our new American majority can end the outrage of unaffordable,\\n', 'unavailable health care in our time. We can bring doctors and patients;\\n', 'workers and businesses, Democrats and Republicans together; and we can\\n', \"tell the drug and insurance industry that while they'll get a seat at\\n\", \"the table, they don't get to buy every chair. Not this time. Not\\n\", 'now. Our new majority can end the tax breaks for corporations that ship\\n', 'our jobs overseas and put a middle-class tax cut into the pockets of the\\n', 'working Americans who deserve it.\\n', '\\n', 'We can stop sending our children to schools with corridors of shame and\\n', 'start putting them on a pathway to success. We can stop talking about\\n', 'how great teachers are and start rewarding them for their greatness. We\\n', 'can do this with our new majority.\\n', '\\n', 'We can harness the ingenuity of farmers and scientists; citizens and\\n', 'entrepreneurs to free this nation from the tyranny of oil and save our\\n', 'planet from a point of no return. And when I am President, we will end\\n', 'this war in Iraq and bring our troops home; we will finish the job\\n', 'against al Qaeda in Afghanistan; we will care for our veterans; we will\\n', 'restore our moral standing in the world; and we will never use 9/11 as a\\n', 'way to scare up votes, because it is not a tactic to win an election, it\\n', 'is a challenge that should unite America and the world against the\\n', 'common threats of the twenty-first century: terrorism and nuclear\\n', 'weapons; climate change and poverty; genocide and disease.\\n', '\\n', 'All of the candidates in this race share these goals. All have good\\n', 'ideas. And all are patriots who serve this country honorably.\\n', '\\n', \"But the reason our campaign has always been different is because it's\\n\", \"not just about what I will do as President, it's also about what you,\\n\", 'the people who love this country, can do to change it.\\n', '\\n', \"That's why tonight belongs to you.\\n\", '\\n', 'It belongs to the organizers and the volunteers and the staff who\\n', 'believed in our improbable journey and rallied so many others to join.\\n', '\\n', 'We know the battle ahead will be long, but always remember that no\\n', 'matter what obstacles stand in our way, nothing can withstand the power\\n', 'of millions of voices calling for change. We have been told we cannot do\\n', 'this by a chorus of cynics who will only grow louder and more dissonant\\n', 'in the weeks to come.\\n', '\\n', \"We've been asked to pause for a reality check. We've been warned against\\n\", 'offering the people of this nation false hope.\\n', '\\n', 'But in the unlikely story that is America, there has never been anything\\n', 'false about hope. For when we have faced down impossible odds; when\\n', \"we've been told that we're not ready, or that we shouldn't try, or that\\n\", \"we can't, generations of Americans have responded with a simple creed\\n\", 'that sums up the spirit of a people.\\n', '\\n', 'Yes we can.\\n', '\\n', 'It was a creed written into the founding documents that declared the\\n', 'destiny of a nation.\\n', '\\n', 'Yes we can.\\n', '\\n', 'It was whispered by slaves and abolitionists as they blazed a trail\\n', 'toward freedom through the darkest of nights.\\n', '\\n', 'Yes we can.\\n', '\\n', 'It was sung by immigrants as they struck out from distant shores and\\n', 'pioneers who pushed westward against an unforgiving wilderness.\\n', '\\n', 'Yes we can.\\n', '\\n', 'It was the call of workers who organized; women who reached for the\\n', 'ballot; a President who chose the moon as our new frontier; and a King\\n', 'who took us to the mountaintop and pointed the way to the Promised Land.\\n', '\\n', 'Yes we can to justice and equality. Yes we can to opportunity and\\n', 'prosperity. Yes we can heal this nation. Yes we can repair this\\n', 'world. Yes we can.\\n', '\\n', 'And so tomorrow, as we take this campaign South and West; as we learn\\n', 'that the struggles of the textile worker in Spartanburg are not so\\n', 'different than the plight of the dishwasher in Las Vegas; that the hopes\\n', 'of the little girl who goes to a crumbling school in Dillon are the same\\n', 'as the dreams of the boy who learns on the streets of LA; we will\\n', 'remember that there is something happening in America; that we are not\\n', 'as divided as our politics suggests; that we are one people; we are one\\n', \"nation; and together, we will begin the next great chapter in America's\\n\", 'story with three words that will ring from coast to coast; from sea to\\n', 'shining sea - Yes. We. Can.\\n', '\\\\Backslash\\n']\n"
     ]
    }
   ],
   "source": [
    "\n",
    "import os\n",
    "os.chdir('/Users/irenegerrish/pythoncamp2023/Day06/Lecture')\n",
    "\n",
    "import re\n",
    "with open(\"obama-nh.txt\", \"r\") as f:\n",
    "    text = f.readlines()\n",
    "    alltext = f.read()\n",
    "\n",
    "# print(text[0])\n",
    "# print(text[1])\n",
    "print(text)\n"
   ]
  },
  {
   "cell_type": "markdown",
   "metadata": {},
   "source": [
    "2. Print lines that do NOT contain 'the' using what we learned today. \n",
    "\n",
    "(Although you might think you could do something like `[l for l in obama if \"the\" not in l]`)"
   ]
  },
  {
   "cell_type": "code",
   "execution_count": 58,
   "metadata": {},
   "outputs": [
    {
     "name": "stdout",
     "output_type": "stream",
     "text": [
      "New Hampshire.\n",
      "\n",
      "\n",
      "\n",
      "A few weeks ago, no one imagined that we'd have accomplished what we did\n",
      "\n",
      "here tonight. For most of this campaign, we were far behind, and we\n",
      "\n",
      "always knew our climb would be steep. But in record numbers, you came\n",
      "\n",
      "out and spoke up for change. And with your voices and your votes, you\n",
      "\n",
      "made it clear that at this moment - in this election - there is\n",
      "\n",
      "something happening in America.\n",
      "\n",
      "\n",
      "\n"
     ]
    },
    {
     "data": {
      "text/plain": [
       "1"
      ]
     },
     "execution_count": 58,
     "metadata": {},
     "output_type": "execute_result"
    }
   ],
   "source": [
    "# re.findall(\"[^(the)?]\", alltext)\n",
    "\n",
    "# re.findall(\"the\", alltext, re.MULTILINE) - instances of \"the\"\n",
    "\n",
    "re.findall(\"[^('the')]\", alltext, re.MULTILINE)\n",
    "\n",
    "for l in text[1:10]:\n",
    "    if len(re.findall(\"\\sthe\\s\", l)) == 0 and len(re.findall(\"The\\s\", l)) == 0:\n",
    "    # if l[(re.findall(\"the\", l) == 'the')]:\n",
    "    #if re.findall(\"[^('the')]\", alltext, re.MULTILINE):\n",
    "    # alltext[i][re.findall(\"the\", alltext, re.MULTILINE)=='the']\n",
    "        print(l)\n",
    "    \n",
    "# len(l)\n"
   ]
  },
  {
   "cell_type": "markdown",
   "metadata": {},
   "source": [
    "3. Print lines that contain a word of any length starting with `s` and ending with `e`"
   ]
  },
  {
   "cell_type": "code",
   "execution_count": 73,
   "metadata": {},
   "outputs": [
    {
     "name": "stdout",
     "output_type": "stream",
     "text": [
      "out and spoke up for change. And with your voices and your votes, you\n",
      "\n",
      "better, there's no problem we can't solve - no destiny we cannot\n",
      "\n",
      "We can stop sending our children to schools with corridors of shame and\n",
      "\n",
      "entrepreneurs to free this nation from the tyranny of oil and save our\n",
      "\n",
      "way to scare up votes, because it is not a tactic to win an election, it\n",
      "\n",
      "All of the candidates in this race share these goals. All have good\n",
      "\n",
      "ideas. And all are patriots who serve this country honorably.\n",
      "\n",
      "we can't, generations of Americans have responded with a simple creed\n",
      "\n",
      "of the little girl who goes to a crumbling school in Dillon are the same\n",
      "\n"
     ]
    }
   ],
   "source": [
    "re.findall(r\"\\s[Ss][a-z]*e\\s\", alltext)\n",
    "\n",
    "for l in text:\n",
    "    if len(re.findall(r\"\\s[Ss][a-z]*e\\s\", l)) != 0:\n",
    "           print(l)\n",
    "\n",
    "# $ for end of strings"
   ]
  },
  {
   "cell_type": "markdown",
   "metadata": {},
   "source": [
    "4. Naive Bayes Classification\n",
    "- Analyze the names that were wrongly predicted by our Naive Bayes classifier. \n",
    "- Identify at least one more features to extract. \n",
    "- Train the classifier again with your new feature extraction function. \n",
    "- Check whether the accuracy improved.  "
   ]
  },
  {
   "cell_type": "code",
   "execution_count": null,
   "metadata": {},
   "outputs": [],
   "source": [
    "# YOUR CODE HERE (Pre-requisite code need to be executed.)\n",
    "def g_features3(name):\n",
    "    pass"
   ]
  }
 ],
 "metadata": {
  "kernelspec": {
   "display_name": "base",
   "language": "python",
   "name": "python3"
  },
  "language_info": {
   "codemirror_mode": {
    "name": "ipython",
    "version": 3
   },
   "file_extension": ".py",
   "mimetype": "text/x-python",
   "name": "python",
   "nbconvert_exporter": "python",
   "pygments_lexer": "ipython3",
   "version": "3.11.4"
  },
  "orig_nbformat": 4
 },
 "nbformat": 4,
 "nbformat_minor": 2
}
