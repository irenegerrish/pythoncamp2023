{
 "cells": [
  {
   "cell_type": "markdown",
   "metadata": {},
   "source": [
    "#### Day 3: Error Handling\n",
    "\n",
    "##### Part 1: Types of Errors: \n",
    "1. Syntax Errors\n",
    "2. Runtime Errors (also known as exceptions)\n",
    "3. Logical Errors\n"
   ]
  },
  {
   "cell_type": "markdown",
   "metadata": {},
   "source": [
    "##### 1.1 Syntax Errors:\n",
    "\n",
    "A syntax error occurs in Python when the interpreter is unable to parse the code due to the code violating Python language structure, i.e. when _Python does not understand_ your code. \n",
    "\n",
    "\n",
    "When a syntax error occurs: \n",
    "- code stops running\n",
    "- error message is displayed -> usually informative\n",
    "- relatively easy to fix"
   ]
  },
  {
   "cell_type": "code",
   "execution_count": 25,
   "metadata": {},
   "outputs": [],
   "source": [
    "# # Example: \n",
    "# while True print 'Hello world'"
   ]
  },
  {
   "cell_type": "code",
   "execution_count": null,
   "metadata": {},
   "outputs": [],
   "source": [
    "# # What's wrong with this? \n",
    "# while True:\n",
    "#     print('Hello world') "
   ]
  },
  {
   "cell_type": "markdown",
   "metadata": {},
   "source": [
    "##### 1.2 Runtime Errors (Exceptions)\n",
    "\n",
    "Runtime errors occurs during the execution of the program.    \n",
    "Different from Syntax Errors, Python now understands your command, but cannot follow the instructions. \n",
    "\n",
    "Examples include: \n",
    "- NameError\n",
    "- TypeError\n",
    "- IndexError\n",
    "- AttributeError\n"
   ]
  },
  {
   "cell_type": "code",
   "execution_count": 2,
   "metadata": {},
   "outputs": [
    {
     "name": "stdout",
     "output_type": "stream",
     "text": [
      "Maybe\n"
     ]
    }
   ],
   "source": [
    "# # Example 1 (NameError):\n",
    "callMe = \"Maybe\"\n",
    "print(callMe)\n",
    "# print(callme) produces an error "
   ]
  },
  {
   "cell_type": "code",
   "execution_count": 5,
   "metadata": {},
   "outputs": [
    {
     "name": "stdout",
     "output_type": "stream",
     "text": [
      "you cannot and text and numbers12\n"
     ]
    }
   ],
   "source": [
    "# # Example 2 (TypeError):\n",
    "# print(\"you cannot add text and numbers \" + 12)\n",
    "# How do we resolve this? \n",
    "\n",
    "print(\"you cannot and text and numbers\" + '12')"
   ]
  },
  {
   "cell_type": "markdown",
   "metadata": {},
   "source": [
    "##### 1.3 Logical Errors\n",
    "\n",
    "A logical error occurs in Python when the code runs successfully! (without syntax or runtime errors)   \n",
    "But the output is NOT what you expect. \n",
    "\n",
    "This happens VERY often and is VERY annoying. Hard to debug. "
   ]
  },
  {
   "cell_type": "code",
   "execution_count": null,
   "metadata": {},
   "outputs": [],
   "source": [
    "# Example:\n",
    "# What is wrong? Add parentheses in line 2\n",
    "def avg(x, y):\n",
    "    return (x + y) / 2\n",
    "myAvg = avg(2, 2) \n",
    "print(myAvg)\n",
    "\n",
    "# To solve logical errors, we "
   ]
  },
  {
   "cell_type": "markdown",
   "metadata": {},
   "source": [
    "##### 1.4 Simple Tips\n",
    "1. Do not use reserved keywords \n",
    "2. A colon is included after for, while, if, else, def, class, etc. \n",
    "3. Parenthese and quotations must always be closed properly. (use IDE to help highlight that)\n",
    "4. Use = and == corretly\n",
    "5. Use correct indentation (do tabs instead of manually typing out 4 space characters)\n",
    "6. Indexing begin at 0 and EXCLUDES the endpoint (inclusive of the starting point)"
   ]
  },
  {
   "cell_type": "code",
   "execution_count": null,
   "metadata": {},
   "outputs": [],
   "source": [
    "# 1 - Do not use reserved/keywords:\n",
    "# - You can check the reserved/keywords using:\n",
    "import keyword\n",
    "keyword.kwlist"
   ]
  },
  {
   "cell_type": "code",
   "execution_count": null,
   "metadata": {},
   "outputs": [],
   "source": [
    "# 2 - A colon is included after for, while, if, else, def, class, etc.\n",
    "def avg(x, y): \n",
    "    return (x + y)/2\n",
    "avg(2, 2)"
   ]
  },
  {
   "cell_type": "code",
   "execution_count": null,
   "metadata": {},
   "outputs": [],
   "source": [
    "# 3 - Parentheses and quotations are closed properly.\n",
    "print((10*2) + (5*3))"
   ]
  },
  {
   "cell_type": "code",
   "execution_count": null,
   "metadata": {},
   "outputs": [],
   "source": [
    "# 4 - Use = and == correctly\n",
    "myAvg = avg(2, 2) # this defines myAvg\n",
    "2 == myAvg # this gives us a numerical comparison -- are they equal?"
   ]
  },
  {
   "cell_type": "code",
   "execution_count": null,
   "metadata": {},
   "outputs": [],
   "source": [
    "# 5 - Use correct indentation\n",
    "x = 1\n",
    "while x < 5:\n",
    "    x += 1\n",
    "    print(x)"
   ]
  },
  {
   "cell_type": "code",
   "execution_count": null,
   "metadata": {},
   "outputs": [],
   "source": [
    "# 6 - Indexing begins at 0 and **excludes** the endpoint\n",
    "for i in range(0, 5):\n",
    "    print(i)"
   ]
  },
  {
   "cell_type": "markdown",
   "metadata": {},
   "source": [
    "#### Part 2: Exception (Runtime Errors) Handling"
   ]
  },
  {
   "cell_type": "markdown",
   "metadata": {},
   "source": [
    "- We use them when we expect error to occur (very useful when web scraping)\n",
    "- We define what to execute when there is an error\n",
    "- We should deal with multiple errors separately"
   ]
  },
  {
   "cell_type": "markdown",
   "metadata": {},
   "source": [
    "##### List of exception handling tricks:\n",
    "\n",
    "- raise:   \n",
    "     to raise exceptions or errors and your program stops running \n",
    "- try:   \n",
    "     to try to execute the code block (where you expect errors to occur)\n",
    "- except:   \n",
    "     when it fails in the try block, and the expected error occurs, handle it here\n",
    "- else:    \n",
    "     if no exceptions, this block gets executed\n",
    "- finally:   \n",
    "     always runs regardless of what happens\n",
    "- pass:   \n",
    "     to continue execution without doing anything (basically just ignore it)"
   ]
  },
  {
   "cell_type": "markdown",
   "metadata": {},
   "source": [
    "Let's work through an example. Say that we're trying to define a function that divides 2 numbers"
   ]
  },
  {
   "cell_type": "code",
   "execution_count": 6,
   "metadata": {},
   "outputs": [
    {
     "ename": "ZeroDivisionError",
     "evalue": "division by zero",
     "output_type": "error",
     "traceback": [
      "\u001b[0;31m---------------------------------------------------------------------------\u001b[0m",
      "\u001b[0;31mZeroDivisionError\u001b[0m                         Traceback (most recent call last)",
      "Cell \u001b[0;32mIn[6], line 5\u001b[0m\n\u001b[1;32m      2\u001b[0m \u001b[39mdef\u001b[39;00m \u001b[39mdivide\u001b[39m(x, y):\n\u001b[1;32m      3\u001b[0m     \u001b[39mreturn\u001b[39;00m x \u001b[39m/\u001b[39m y\n\u001b[0;32m----> 5\u001b[0m divide(\u001b[39m5\u001b[39;49m,\u001b[39m0\u001b[39;49m) \n",
      "Cell \u001b[0;32mIn[6], line 3\u001b[0m, in \u001b[0;36mdivide\u001b[0;34m(x, y)\u001b[0m\n\u001b[1;32m      2\u001b[0m \u001b[39mdef\u001b[39;00m \u001b[39mdivide\u001b[39m(x, y):\n\u001b[0;32m----> 3\u001b[0m     \u001b[39mreturn\u001b[39;00m x \u001b[39m/\u001b[39;49m y\n",
      "\u001b[0;31mZeroDivisionError\u001b[0m: division by zero"
     ]
    }
   ],
   "source": [
    "# not handling errors at all\n",
    "def divide(x, y):\n",
    "    return x / y\n",
    "\n",
    "divide(5,0) \n",
    "# ZeroDivisionError\n",
    "# We can expect that this error will happen"
   ]
  },
  {
   "cell_type": "code",
   "execution_count": 8,
   "metadata": {},
   "outputs": [
    {
     "ename": "ZeroDivisionError",
     "evalue": "Cannot divide by zero!",
     "output_type": "error",
     "traceback": [
      "\u001b[0;31m---------------------------------------------------------------------------\u001b[0m",
      "\u001b[0;31mZeroDivisionError\u001b[0m                         Traceback (most recent call last)",
      "Cell \u001b[0;32mIn[8], line 7\u001b[0m\n\u001b[1;32m      4\u001b[0m         \u001b[39mraise\u001b[39;00m \u001b[39mZeroDivisionError\u001b[39;00m(\u001b[39m\"\u001b[39m\u001b[39mCannot divide by zero!\u001b[39m\u001b[39m\"\u001b[39m)\n\u001b[1;32m      5\u001b[0m     \u001b[39mreturn\u001b[39;00m x \u001b[39m/\u001b[39m y\n\u001b[0;32m----> 7\u001b[0m divide(\u001b[39m5\u001b[39;49m,\u001b[39m0\u001b[39;49m) \n",
      "Cell \u001b[0;32mIn[8], line 4\u001b[0m, in \u001b[0;36mdivide\u001b[0;34m(x, y)\u001b[0m\n\u001b[1;32m      2\u001b[0m \u001b[39mdef\u001b[39;00m \u001b[39mdivide\u001b[39m(x, y):\n\u001b[1;32m      3\u001b[0m     \u001b[39mif\u001b[39;00m y \u001b[39m==\u001b[39m \u001b[39m0\u001b[39m: \n\u001b[0;32m----> 4\u001b[0m         \u001b[39mraise\u001b[39;00m \u001b[39mZeroDivisionError\u001b[39;00m(\u001b[39m\"\u001b[39m\u001b[39mCannot divide by zero!\u001b[39m\u001b[39m\"\u001b[39m)\n\u001b[1;32m      5\u001b[0m     \u001b[39mreturn\u001b[39;00m x \u001b[39m/\u001b[39m y\n",
      "\u001b[0;31mZeroDivisionError\u001b[0m: Cannot divide by zero!"
     ]
    }
   ],
   "source": [
    "# use raise \n",
    "def divide(x, y):\n",
    "    if y == 0: \n",
    "        raise ZeroDivisionError(\"Cannot divide by zero!\")\n",
    "    return x / y\n",
    "\n",
    "divide(5,0) "
   ]
  },
  {
   "cell_type": "code",
   "execution_count": 11,
   "metadata": {},
   "outputs": [
    {
     "name": "stdout",
     "output_type": "stream",
     "text": [
      "Cannot divide by zero!\n"
     ]
    }
   ],
   "source": [
    "# use try and except \n",
    "def divide(x, y):\n",
    "    try: \n",
    "        result = x / y\n",
    "        print('Your answer is {}'.format(result))\n",
    "    except ZeroDivisionError: \n",
    "        print(\"Cannot divide by zero!\")\n",
    "\n",
    "# divide(5,1) \n",
    "divide(5,0)"
   ]
  },
  {
   "cell_type": "code",
   "execution_count": 10,
   "metadata": {},
   "outputs": [
    {
     "name": "stdout",
     "output_type": "stream",
     "text": [
      "Your answer is 5.0\n",
      "Cannot divide by zero!\n"
     ]
    }
   ],
   "source": [
    "# use try except else\n",
    "def divide(x, y):\n",
    "    try: \n",
    "        result = x / y\n",
    "    except ZeroDivisionError: \n",
    "        print(\"Cannot divide by zero!\")\n",
    "    else: \n",
    "        print('Your answer is {}'.format(result))\n",
    "\n",
    "divide(5,1) \n",
    "divide(5,0)"
   ]
  },
  {
   "cell_type": "code",
   "execution_count": 50,
   "metadata": {},
   "outputs": [
    {
     "name": "stdout",
     "output_type": "stream",
     "text": [
      "Your answer is 5.0\n",
      "Have a great day!\n",
      "Cannot divide by zero!\n",
      "Have a great day!\n"
     ]
    }
   ],
   "source": [
    "# use try except else finally\n",
    "def divide(x, y):\n",
    "    try: \n",
    "        result = x / y\n",
    "    except ZeroDivisionError: \n",
    "        print(\"Cannot divide by zero!\")\n",
    "    else: \n",
    "        print('Your answer is {}'.format(result))\n",
    "    finally: \n",
    "        print('Have a great day!')\n",
    "\n",
    "divide(5,1) \n",
    "divide(5,0)"
   ]
  },
  {
   "cell_type": "code",
   "execution_count": 15,
   "metadata": {},
   "outputs": [
    {
     "name": "stdout",
     "output_type": "stream",
     "text": [
      "Your answer is 5.0\n",
      "Have a great day!\n",
      "ZeroDivisionError: Cannot divide by zero!\n",
      "Have a great day!\n",
      "TypeError: Make sure you have two numbers!\n",
      "Have a great day!\n"
     ]
    }
   ],
   "source": [
    "# use try except except else finally\n",
    "def divide(x, y):\n",
    "    try: \n",
    "        result = x / y\n",
    "    except ZeroDivisionError: \n",
    "        print(\"ZeroDivisionError: Cannot divide by zero!\")\n",
    "    except TypeError: \n",
    "        print(\"TypeError: Make sure you have two numbers!\")\n",
    "    else: \n",
    "        print('Your answer is {}'.format(result))\n",
    "    finally: \n",
    "        print('Have a great day!')\n",
    "\n",
    "divide(5,1) \n",
    "divide(5,0)\n",
    "# divide('Cecilia')\n",
    "divide('Cecilia', 'Sui')"
   ]
  },
  {
   "cell_type": "markdown",
   "metadata": {},
   "source": [
    "#### Exceptions are helpful so our code doesn't break! But they cannot resolve logical errors "
   ]
  },
  {
   "cell_type": "markdown",
   "metadata": {},
   "source": [
    "#### Part 3: Short Class Activity\n",
    "\n",
    "We are trying to print an **integer** using the print_integer() function.   \n",
    "What type of error would occur? How can we fix it? "
   ]
  },
  {
   "cell_type": "code",
   "execution_count": 21,
   "metadata": {},
   "outputs": [
    {
     "name": "stdout",
     "output_type": "stream",
     "text": [
      "3.0\n"
     ]
    }
   ],
   "source": [
    "def print_integer(my_integer):\n",
    "    # Let's write this together! \n",
    "    if type(my_integer) != int and type(my_integer) != float:\n",
    "        raise TypeError(\"Please enter an integer!\") \n",
    "    if my_integer % 1 == 0:\n",
    "        print(my_integer)\n",
    "    else:\n",
    "        print(\"Please enter an integer!\")\n",
    "\n",
    "# print_integer(3.5) # What kind of error? \n",
    "print_integer(3.0)\n",
    "# print_integer('Hi I am Cecilia!') # What error? \n"
   ]
  },
  {
   "cell_type": "code",
   "execution_count": 76,
   "metadata": {},
   "outputs": [
    {
     "name": "stdout",
     "output_type": "stream",
     "text": [
      "The number has decimals!\n",
      "The integer is 3.0\n",
      "Enter an integer\n"
     ]
    }
   ],
   "source": [
    "def print_integer(my_integer):\n",
    "    # Let's write this together! \n",
    "    try: \n",
    "        if my_integer % 1 == 0: \n",
    "            print(\"The integer is \" + str(my_integer))\n",
    "        else:\n",
    "            print(\"The number has decimals!\")\n",
    "    except TypeError: \n",
    "        print(\"Enter an integer\")\n",
    "\n",
    "print_integer(3.5) # What kind of error? \n",
    "print_integer(3.0)\n",
    "print_integer('Hi I am Cecilia!') # What error? \n"
   ]
  },
  {
   "cell_type": "code",
   "execution_count": 23,
   "metadata": {},
   "outputs": [],
   "source": [
    "# We can create your own exception as a new class     \n",
    "class CustomException(Exception): \n",
    "    def __init__(self, value):\n",
    "        self.value = value\n",
    "    def __str__(self):\n",
    "        return str(self.value)"
   ]
  },
  {
   "cell_type": "code",
   "execution_count": 24,
   "metadata": {},
   "outputs": [
    {
     "data": {
      "text/plain": [
       "['__cause__',\n",
       " '__class__',\n",
       " '__context__',\n",
       " '__delattr__',\n",
       " '__dict__',\n",
       " '__dir__',\n",
       " '__doc__',\n",
       " '__eq__',\n",
       " '__format__',\n",
       " '__ge__',\n",
       " '__getattribute__',\n",
       " '__getstate__',\n",
       " '__gt__',\n",
       " '__hash__',\n",
       " '__init__',\n",
       " '__init_subclass__',\n",
       " '__le__',\n",
       " '__lt__',\n",
       " '__module__',\n",
       " '__ne__',\n",
       " '__new__',\n",
       " '__reduce__',\n",
       " '__reduce_ex__',\n",
       " '__repr__',\n",
       " '__setattr__',\n",
       " '__setstate__',\n",
       " '__sizeof__',\n",
       " '__str__',\n",
       " '__subclasshook__',\n",
       " '__suppress_context__',\n",
       " '__traceback__',\n",
       " '__weakref__',\n",
       " 'add_note',\n",
       " 'args',\n",
       " 'with_traceback']"
      ]
     },
     "execution_count": 24,
     "metadata": {},
     "output_type": "execute_result"
    }
   ],
   "source": [
    "dir(CustomException)\n"
   ]
  },
  {
   "cell_type": "code",
   "execution_count": 25,
   "metadata": {},
   "outputs": [
    {
     "ename": "CustomException",
     "evalue": "Whatever you want to say here",
     "output_type": "error",
     "traceback": [
      "\u001b[0;31m---------------------------------------------------------------------------\u001b[0m",
      "\u001b[0;31mCustomException\u001b[0m                           Traceback (most recent call last)",
      "Cell \u001b[0;32mIn[25], line 2\u001b[0m\n\u001b[1;32m      1\u001b[0m \u001b[39m# use\u001b[39;00m\n\u001b[0;32m----> 2\u001b[0m \u001b[39mraise\u001b[39;00m CustomException(\u001b[39m\"\u001b[39m\u001b[39mWhatever you want to say here\u001b[39m\u001b[39m\"\u001b[39m)\n",
      "\u001b[0;31mCustomException\u001b[0m: Whatever you want to say here"
     ]
    }
   ],
   "source": [
    "# use\n",
    "raise CustomException(\"Whatever you want to say here\")"
   ]
  },
  {
   "cell_type": "markdown",
   "metadata": {},
   "source": [
    "Let's look at this more complicated example. \n",
    "\n",
    "In this example, our custom exception is that the integer cannot be 10, 20, or 30. \n",
    "\n",
    "Since this is a ValueError unique to our situation, we need to catch it ourselves!"
   ]
  },
  {
   "cell_type": "code",
   "execution_count": 28,
   "metadata": {},
   "outputs": [],
   "source": [
    "def print_integer(integer):\n",
    "    bad_numbers = [10, 20, 30]\n",
    "    try:\n",
    "        if integer in bad_numbers:\n",
    "            ## raise it ourselves\n",
    "            raise CustomException(integer)\n",
    "        elif integer % 1 != 0:\n",
    "            raise CustomException(integer) \n",
    "        else:\n",
    "            print(\"Congratulations! You entered an integer!\")\n",
    "    ## then catch it\n",
    "    except CustomException as e:\n",
    "        raise ValueError(\"Your number cannot be: %f\" % e.value)\n",
    "    except TypeError:\n",
    "        print(\"You didn't enter a number.\")\n",
    "    else:\n",
    "        return \"Your integer is \" + str(integer)"
   ]
  },
  {
   "cell_type": "code",
   "execution_count": 29,
   "metadata": {},
   "outputs": [
    {
     "ename": "ValueError",
     "evalue": "Your number cannot be: 10.000000",
     "output_type": "error",
     "traceback": [
      "\u001b[0;31m---------------------------------------------------------------------------\u001b[0m",
      "\u001b[0;31mCustomException\u001b[0m                           Traceback (most recent call last)",
      "Cell \u001b[0;32mIn[28], line 6\u001b[0m, in \u001b[0;36mprint_integer\u001b[0;34m(integer)\u001b[0m\n\u001b[1;32m      4\u001b[0m \u001b[39mif\u001b[39;00m integer \u001b[39min\u001b[39;00m bad_numbers:\n\u001b[1;32m      5\u001b[0m     \u001b[39m## raise it ourselves\u001b[39;00m\n\u001b[0;32m----> 6\u001b[0m     \u001b[39mraise\u001b[39;00m CustomException(integer)\n\u001b[1;32m      7\u001b[0m \u001b[39melif\u001b[39;00m integer \u001b[39m%\u001b[39m \u001b[39m1\u001b[39m \u001b[39m!=\u001b[39m \u001b[39m0\u001b[39m:\n",
      "\u001b[0;31mCustomException\u001b[0m: 10",
      "\nDuring handling of the above exception, another exception occurred:\n",
      "\u001b[0;31mValueError\u001b[0m                                Traceback (most recent call last)",
      "Cell \u001b[0;32mIn[29], line 1\u001b[0m\n\u001b[0;32m----> 1\u001b[0m print_integer(\u001b[39m10\u001b[39;49m) \n\u001b[1;32m      2\u001b[0m \u001b[39m# print_integer(1.2) \u001b[39;00m\n\u001b[1;32m      3\u001b[0m \u001b[39m# print_integer('a')\u001b[39;00m\n\u001b[1;32m      4\u001b[0m \u001b[39m# print_integer(1)\u001b[39;00m\n",
      "Cell \u001b[0;32mIn[28], line 13\u001b[0m, in \u001b[0;36mprint_integer\u001b[0;34m(integer)\u001b[0m\n\u001b[1;32m     11\u001b[0m \u001b[39m## then catch it\u001b[39;00m\n\u001b[1;32m     12\u001b[0m \u001b[39mexcept\u001b[39;00m CustomException \u001b[39mas\u001b[39;00m e:\n\u001b[0;32m---> 13\u001b[0m     \u001b[39mraise\u001b[39;00m \u001b[39mValueError\u001b[39;00m(\u001b[39m\"\u001b[39m\u001b[39mYour number cannot be: \u001b[39m\u001b[39m%f\u001b[39;00m\u001b[39m\"\u001b[39m \u001b[39m%\u001b[39m e\u001b[39m.\u001b[39mvalue)\n\u001b[1;32m     14\u001b[0m \u001b[39mexcept\u001b[39;00m \u001b[39mTypeError\u001b[39;00m:\n\u001b[1;32m     15\u001b[0m     \u001b[39mprint\u001b[39m(\u001b[39m\"\u001b[39m\u001b[39mYou didn\u001b[39m\u001b[39m'\u001b[39m\u001b[39mt enter a number.\u001b[39m\u001b[39m\"\u001b[39m)\n",
      "\u001b[0;31mValueError\u001b[0m: Your number cannot be: 10.000000"
     ]
    }
   ],
   "source": [
    "print_integer(10) \n",
    "# print_integer(1.2) \n",
    "# print_integer('a')\n",
    "# print_integer(1)"
   ]
  },
  {
   "cell_type": "markdown",
   "metadata": {},
   "source": [
    "more on except and raise: https://stackoverflow.com/questions/56942284/what-is-the-difference-between-raise-and-except\n"
   ]
  },
  {
   "cell_type": "code",
   "execution_count": null,
   "metadata": {},
   "outputs": [],
   "source": []
  },
  {
   "cell_type": "code",
   "execution_count": null,
   "metadata": {},
   "outputs": [],
   "source": []
  }
 ],
 "metadata": {
  "kernelspec": {
   "display_name": "base",
   "language": "python",
   "name": "python3"
  },
  "language_info": {
   "codemirror_mode": {
    "name": "ipython",
    "version": 3
   },
   "file_extension": ".py",
   "mimetype": "text/x-python",
   "name": "python",
   "nbconvert_exporter": "python",
   "pygments_lexer": "ipython3",
   "version": "3.11.4"
  },
  "orig_nbformat": 4
 },
 "nbformat": 4,
 "nbformat_minor": 2
}
