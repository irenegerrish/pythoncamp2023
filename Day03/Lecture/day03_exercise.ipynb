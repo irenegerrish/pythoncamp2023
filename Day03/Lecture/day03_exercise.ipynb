{
 "cells": [
  {
   "cell_type": "markdown",
   "metadata": {},
   "source": [
    "1. Write a function that counts how many vowels (aeiou) are in a word\n",
    "    - Raise a TypeError with an informative message if 'word' is passed as an integer\n",
    "    - When done, run the test in your script and see your results."
   ]
  },
  {
   "cell_type": "code",
   "execution_count": 19,
   "metadata": {},
   "outputs": [],
   "source": [
    "def count_vowels(word):\n",
    "    if type(word) != str:\n",
    "        raise TypeError(\"You need to enter a word\")\n",
    "    else:\n",
    "        letters = [letter for letter in word]\n",
    "        vowels = ['a', 'e', 'i', 'o', 'u']\n",
    "        count = 0\n",
    "        for i in range(0, len(word)):\n",
    "            print(letters[i])\n",
    "            if letters[i] in vowels: \n",
    "                count += 1\n",
    "        return count"
   ]
  },
  {
   "cell_type": "code",
   "execution_count": 20,
   "metadata": {},
   "outputs": [
    {
     "name": "stdout",
     "output_type": "stream",
     "text": [
      "d\n",
      "a\n",
      "s\n",
      "r\n",
      "f\n",
      "e\n"
     ]
    },
    {
     "data": {
      "text/plain": [
       "2"
      ]
     },
     "execution_count": 20,
     "metadata": {},
     "output_type": "execute_result"
    }
   ],
   "source": [
    "count_vowels('dasrfe')"
   ]
  },
  {
   "cell_type": "code",
   "execution_count": 21,
   "metadata": {},
   "outputs": [
    {
     "ename": "TypeError",
     "evalue": "You need to enter a word",
     "output_type": "error",
     "traceback": [
      "\u001b[0;31m---------------------------------------------------------------------------\u001b[0m",
      "\u001b[0;31mTypeError\u001b[0m                                 Traceback (most recent call last)",
      "Cell \u001b[0;32mIn[21], line 1\u001b[0m\n\u001b[0;32m----> 1\u001b[0m count_vowels(\u001b[39m1\u001b[39;49m)\n",
      "Cell \u001b[0;32mIn[19], line 3\u001b[0m, in \u001b[0;36mcount_vowels\u001b[0;34m(word)\u001b[0m\n\u001b[1;32m      1\u001b[0m \u001b[39mdef\u001b[39;00m \u001b[39mcount_vowels\u001b[39m(word):\n\u001b[1;32m      2\u001b[0m     \u001b[39mif\u001b[39;00m \u001b[39mtype\u001b[39m(word) \u001b[39m!=\u001b[39m \u001b[39mstr\u001b[39m:\n\u001b[0;32m----> 3\u001b[0m         \u001b[39mraise\u001b[39;00m \u001b[39mTypeError\u001b[39;00m(\u001b[39m\"\u001b[39m\u001b[39mYou need to enter a word\u001b[39m\u001b[39m\"\u001b[39m)\n\u001b[1;32m      4\u001b[0m     \u001b[39melse\u001b[39;00m:\n\u001b[1;32m      5\u001b[0m         letters \u001b[39m=\u001b[39m [letter \u001b[39mfor\u001b[39;00m letter \u001b[39min\u001b[39;00m word]\n",
      "\u001b[0;31mTypeError\u001b[0m: You need to enter a word"
     ]
    }
   ],
   "source": [
    "count_vowels(1)"
   ]
  },
  {
   "cell_type": "markdown",
   "metadata": {},
   "source": [
    "2. Write a python function that divides two numbers. It should handle the exception when you divide a number by zero. Use a try-except block."
   ]
  },
  {
   "cell_type": "code",
   "execution_count": 23,
   "metadata": {},
   "outputs": [],
   "source": [
    "def divide_numbers(x, y):\n",
    "    try: \n",
    "        result = x / y\n",
    "        return result\n",
    "    except ZeroDivisionError: \n",
    "        print(\"Cannot divide by zero!\")"
   ]
  },
  {
   "cell_type": "code",
   "execution_count": 26,
   "metadata": {},
   "outputs": [
    {
     "name": "stdout",
     "output_type": "stream",
     "text": [
      "Cannot divide by zero!\n"
     ]
    }
   ],
   "source": [
    "divide_numbers(3,1)\n",
    "divide_numbers(9,0)"
   ]
  },
  {
   "cell_type": "markdown",
   "metadata": {},
   "source": [
    "3. Write a function that prints out the value at given index in a list. Handle the exception when your index is out of range. "
   ]
  },
  {
   "cell_type": "code",
   "execution_count": 27,
   "metadata": {},
   "outputs": [],
   "source": [
    "def test_index(your_list, index):\n",
    "    try:\n",
    "        print(your_list[index])\n",
    "    except IndexError:\n",
    "        print(\"Index is out of range\")\n",
    "    "
   ]
  },
  {
   "cell_type": "code",
   "execution_count": null,
   "metadata": {},
   "outputs": [],
   "source": [
    "# raise exceptions when we expect errors\n",
    "# try, except: if there are no errors, code in try will run, but code in except will not run.\n",
    "# try, except, else: if there are not errors, code will run in try and else, but code in except will not run."
   ]
  }
 ],
 "metadata": {
  "kernelspec": {
   "display_name": "base",
   "language": "python",
   "name": "python3"
  },
  "language_info": {
   "codemirror_mode": {
    "name": "ipython",
    "version": 3
   },
   "file_extension": ".py",
   "mimetype": "text/x-python",
   "name": "python",
   "nbconvert_exporter": "python",
   "pygments_lexer": "ipython3",
   "version": "3.11.4"
  },
  "orig_nbformat": 4
 },
 "nbformat": 4,
 "nbformat_minor": 2
}
