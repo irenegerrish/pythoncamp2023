{
 "cells": [
  {
   "cell_type": "markdown",
   "metadata": {},
   "source": [
    "1. Make all characters capitalized. \n",
    "    - check out the .upper()\n",
    "    - handle the exception when intergers are given instead of string"
   ]
  },
  {
   "cell_type": "code",
   "execution_count": 10,
   "metadata": {},
   "outputs": [],
   "source": [
    "def shout(txt):\n",
    "    try:\n",
    "        txt = txt.upper()\n",
    "        return txt\n",
    "    except AttributeError:\n",
    "        print('Please enter a word!')"
   ]
  },
  {
   "cell_type": "code",
   "execution_count": 13,
   "metadata": {},
   "outputs": [
    {
     "data": {
      "text/plain": [
       "'&'"
      ]
     },
     "execution_count": 13,
     "metadata": {},
     "output_type": "execute_result"
    }
   ],
   "source": [
    "shout('&')\n",
    "# shout('letters')"
   ]
  },
  {
   "cell_type": "markdown",
   "metadata": {},
   "source": [
    "2. Reverse all characters in a string\n",
    "    - handle the exception when integers are given \n",
    "    - use a different method to handle this from 1."
   ]
  },
  {
   "cell_type": "code",
   "execution_count": 14,
   "metadata": {},
   "outputs": [],
   "source": [
    "def reverse(txt):\n",
    "    if type(txt) != str:\n",
    "        raise TypeError(\"Please enter a word!\")\n",
    "    return txt[::-1]"
   ]
  },
  {
   "cell_type": "code",
   "execution_count": 15,
   "metadata": {},
   "outputs": [
    {
     "data": {
      "text/plain": [
       "'sessalc'"
      ]
     },
     "execution_count": 15,
     "metadata": {},
     "output_type": "execute_result"
    }
   ],
   "source": [
    "reverse('classes')"
   ]
  },
  {
   "cell_type": "markdown",
   "metadata": {},
   "source": [
    "3. Reverse the word ordering in a string\n",
    "    - assume words are separated by space\n",
    "    - think of one error that could occur and handle it accordingly"
   ]
  },
  {
   "cell_type": "code",
   "execution_count": 32,
   "metadata": {},
   "outputs": [],
   "source": [
    "def reversewords(txt):\n",
    "    if type(txt) != str:\n",
    "        raise TypeError(\"Please enter a word!\")\n",
    "    # if txt == None:\n",
    "        # raise TypeError(\"Please enter a word!\")\n",
    "    txt = txt.split(sep = \" \")\n",
    "    return ' '.join(txt[::-1])"
   ]
  },
  {
   "cell_type": "code",
   "execution_count": 33,
   "metadata": {},
   "outputs": [
    {
     "data": {
      "text/plain": [
       "'here am I'"
      ]
     },
     "execution_count": 33,
     "metadata": {},
     "output_type": "execute_result"
    }
   ],
   "source": [
    "reversewords('I am here')\n",
    "# reversewords()"
   ]
  },
  {
   "cell_type": "markdown",
   "metadata": {},
   "source": [
    "4. Reverse letters in each word in the string\n",
    "    - The word ordering is preserved\n",
    "    - Only the letters are reversed "
   ]
  },
  {
   "cell_type": "code",
   "execution_count": 39,
   "metadata": {},
   "outputs": [],
   "source": [
    "def reversewordletters(txt):\n",
    "    txt = txt.split(sep = \" \")\n",
    "    for i in range(0, len(txt)): # create list\n",
    "        txt[i] = txt[i][::-1] # reverses order of letters\n",
    "    return ' '.join(txt)"
   ]
  },
  {
   "cell_type": "code",
   "execution_count": 43,
   "metadata": {},
   "outputs": [
    {
     "ename": "TypeError",
     "evalue": "reversewordletters() missing 1 required positional argument: 'txt'",
     "output_type": "error",
     "traceback": [
      "\u001b[0;31m---------------------------------------------------------------------------\u001b[0m",
      "\u001b[0;31mTypeError\u001b[0m                                 Traceback (most recent call last)",
      "Cell \u001b[0;32mIn[43], line 1\u001b[0m\n\u001b[0;32m----> 1\u001b[0m reversewordletters()\n",
      "\u001b[0;31mTypeError\u001b[0m: reversewordletters() missing 1 required positional argument: 'txt'"
     ]
    }
   ],
   "source": [
    "reversewordletters()"
   ]
  },
  {
   "cell_type": "markdown",
   "metadata": {},
   "source": [
    "5. (Optional) Change text to piglatin... Google it! \n",
    "    - Handle errors accordingly"
   ]
  },
  {
   "cell_type": "code",
   "execution_count": 48,
   "metadata": {},
   "outputs": [],
   "source": [
    "def piglatin(txt):\n",
    "    # [a, e, i, o, u] - vowels\n",
    "    # If a word starts with a consonant and a vowel, put the first letter of the word at the end of the word and add \"ay.\"\n",
    "    # If a word starts with two consonants move the two consonants to the end of the word and add \"ay.\"\n",
    "    # If a word starts with a vowel add the word \"way\" at the end of the word.\n",
    "    if type(txt) != str:\n",
    "        raise TypeError(\"You need to enter a word\")\n",
    "    else:\n",
    "        txt = txt.lower()\n",
    "        txt = txt.split(sep = \" \")\n",
    "        vowels = ['a', 'e', 'i', 'o', 'u']\n",
    "        for i in range(0, len(txt)):\n",
    "            if txt[i][0] in vowels:\n",
    "                txt[i] = txt[i] + \"way\" \n",
    "            elif txt[i][0] not in vowels and txt[i][1] not in vowels:\n",
    "                txt[i] = txt[i][2:] + txt[i][0:2] + \"ay\" # Adds two consonants to end before ay\n",
    "            elif txt[i][0] not in vowels and txt [i][1] in vowels:\n",
    "                txt[i] = txt[i][1:] + txt[i][0:1] + \"ay\"\n",
    "        return ' '.join(txt)\n",
    "            "
   ]
  },
  {
   "cell_type": "code",
   "execution_count": 49,
   "metadata": {},
   "outputs": [
    {
     "data": {
      "text/plain": [
       "'thonpyay ampcay isway unfay'"
      ]
     },
     "execution_count": 49,
     "metadata": {},
     "output_type": "execute_result"
    }
   ],
   "source": [
    "piglatin('Python camp is fun')"
   ]
  }
 ],
 "metadata": {
  "kernelspec": {
   "display_name": "base",
   "language": "python",
   "name": "python3"
  },
  "language_info": {
   "codemirror_mode": {
    "name": "ipython",
    "version": 3
   },
   "file_extension": ".py",
   "mimetype": "text/x-python",
   "name": "python",
   "nbconvert_exporter": "python",
   "pygments_lexer": "ipython3",
   "version": "3.11.4"
  },
  "orig_nbformat": 4
 },
 "nbformat": 4,
 "nbformat_minor": 2
}
