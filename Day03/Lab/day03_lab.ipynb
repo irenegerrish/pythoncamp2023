{
 "cells": [
  {
   "cell_type": "markdown",
   "metadata": {},
   "source": [
    "1. Make all characters capitalized. \n",
    "    - check out the .upper()\n",
    "    - handle the exception when intergers are given instead of string"
   ]
  },
  {
   "cell_type": "code",
   "execution_count": 10,
   "metadata": {},
   "outputs": [],
   "source": [
    "def shout(txt):\n",
    "    try:\n",
    "        txt = txt.upper()\n",
    "        return txt\n",
    "    except AttributeError:\n",
    "        print('Please enter a word!')"
   ]
  },
  {
   "cell_type": "code",
   "execution_count": 13,
   "metadata": {},
   "outputs": [
    {
     "data": {
      "text/plain": [
       "'&'"
      ]
     },
     "execution_count": 13,
     "metadata": {},
     "output_type": "execute_result"
    }
   ],
   "source": [
    "shout('&')\n",
    "# shout('letters')"
   ]
  },
  {
   "cell_type": "markdown",
   "metadata": {},
   "source": [
    "2. Reverse all characters in a string\n",
    "    - handle the exception when integers are given \n",
    "    - use a different method to handle this from 1."
   ]
  },
  {
   "cell_type": "code",
   "execution_count": 14,
   "metadata": {},
   "outputs": [],
   "source": [
    "def reverse(txt):\n",
    "    if type(txt) != str:\n",
    "        raise TypeError(\"Please enter a word!\")\n",
    "    return txt[::-1]"
   ]
  },
  {
   "cell_type": "code",
   "execution_count": 15,
   "metadata": {},
   "outputs": [
    {
     "data": {
      "text/plain": [
       "'sessalc'"
      ]
     },
     "execution_count": 15,
     "metadata": {},
     "output_type": "execute_result"
    }
   ],
   "source": [
    "reverse('classes')"
   ]
  },
  {
   "cell_type": "markdown",
   "metadata": {},
   "source": [
    "3. Reverse the word ordering in a string\n",
    "    - assume words are separated by space\n",
    "    - think of one error that could occur and handle it accordingly"
   ]
  },
  {
   "cell_type": "code",
   "execution_count": 32,
   "metadata": {},
   "outputs": [],
   "source": [
    "def reversewords(txt):\n",
    "    if type(txt) != str:\n",
    "        raise TypeError(\"Please enter a word!\")\n",
    "    # if txt == None:\n",
    "        # raise TypeError(\"Please enter a word!\")\n",
    "    txt = txt.split(sep = \" \")\n",
    "    return ' '.join(txt[::-1])"
   ]
  },
  {
   "cell_type": "code",
   "execution_count": 33,
   "metadata": {},
   "outputs": [
    {
     "data": {
      "text/plain": [
       "'here am I'"
      ]
     },
     "execution_count": 33,
     "metadata": {},
     "output_type": "execute_result"
    }
   ],
   "source": [
    "reversewords('I am here')\n",
    "# reversewords()"
   ]
  },
  {
   "cell_type": "markdown",
   "metadata": {},
   "source": [
    "4. Reverse letters in each word in the string\n",
    "    - The word ordering is preserved\n",
    "    - Only the letters are reversed "
   ]
  },
  {
   "cell_type": "code",
   "execution_count": 39,
   "metadata": {},
   "outputs": [],
   "source": [
    "def reversewordletters(txt):\n",
    "    txt = txt.split(sep = \" \")\n",
    "    for i in range(0, len(txt)): # create list\n",
    "        txt[i] = txt[i][::-1] # reverses order of letters\n",
    "    return ' '.join(txt)"
   ]
  },
  {
   "cell_type": "code",
   "execution_count": 43,
   "metadata": {},
   "outputs": [
    {
     "ename": "TypeError",
     "evalue": "reversewordletters() missing 1 required positional argument: 'txt'",
     "output_type": "error",
     "traceback": [
      "\u001b[0;31m---------------------------------------------------------------------------\u001b[0m",
      "\u001b[0;31mTypeError\u001b[0m                                 Traceback (most recent call last)",
      "Cell \u001b[0;32mIn[43], line 1\u001b[0m\n\u001b[0;32m----> 1\u001b[0m reversewordletters()\n",
      "\u001b[0;31mTypeError\u001b[0m: reversewordletters() missing 1 required positional argument: 'txt'"
     ]
    }
   ],
   "source": [
    "reversewordletters()"
   ]
  },
  {
   "cell_type": "markdown",
   "metadata": {},
   "source": [
    "5. (Optional) Change text to piglatin... Google it! \n",
    "    - Handle errors accordingly"
   ]
  },
  {
   "cell_type": "code",
   "execution_count": 48,
   "metadata": {},
   "outputs": [],
   "source": [
    "def piglatin(txt):\n",
    "    # [a, e, i, o, u] - vowels\n",
    "    # If a word starts with a consonant and a vowel, put the first letter of the word at the end of the word and add \"ay.\"\n",
    "    # If a word starts with two consonants move the two consonants to the end of the word and add \"ay.\"\n",
    "    # If a word starts with a vowel add the word \"way\" at the end of the word.\n",
    "    if type(txt) != str:\n",
    "        raise TypeError(\"You need to enter a word\")\n",
    "    else:\n",
    "        txt = txt.lower()\n",
    "        txt = txt.split(sep = \" \")\n",
    "        vowels = ['a', 'e', 'i', 'o', 'u']\n",
    "        for i in range(0, len(txt)):\n",
    "            if txt[i][0] in vowels:\n",
    "                txt[i] = txt[i] + \"way\" \n",
    "            elif txt[i][0] not in vowels and txt[i][1] not in vowels:\n",
    "                txt[i] = txt[i][2:] + txt[i][0:2] + \"ay\" # Adds two consonants to end before ay\n",
    "            elif txt[i][0] not in vowels and txt [i][1] in vowels:\n",
    "                txt[i] = txt[i][1:] + txt[i][0:1] + \"ay\"\n",
    "        return ' '.join(txt)\n",
    "            "
   ]
  },
  {
   "cell_type": "code",
   "execution_count": 49,
   "metadata": {},
   "outputs": [
    {
     "data": {
      "text/plain": [
       "'thonpyay ampcay isway unfay'"
      ]
     },
     "execution_count": 49,
     "metadata": {},
     "output_type": "execute_result"
    }
   ],
   "source": [
    "piglatin('Python camp is fun')"
   ]
  },
  {
   "cell_type": "code",
   "execution_count": 23,
   "metadata": {},
   "outputs": [],
   "source": [
    "# Create class for Portfolio\n",
    "class Portfolio:\n",
    "    def __init__(self, client_id):\n",
    "        self.client_id = client_id\n",
    "        self.clients = {}\n",
    "\n",
    "    # Creating clients with no money in account\n",
    "    def create_client(self, client_id, cash_balance=0, mutual_funds=0, stocks=0):\n",
    "        self.clients[client_id] = Client(client_id, cash_balance, mutual_funds, stocks)\n",
    "\n",
    "# create class for Client\n",
    "class Client:\n",
    "    def __init__(self, client_id, Cash, MutualFund, Stock):\n",
    "        self.client_id = client_id\n",
    "        self.Cash = Cash\n",
    "        self.MutualFund = MutualFund\n",
    "        self.Stock = Stock\n",
    "\n",
    "    # Create portfolio\n",
    "    def portfolio(self):\n",
    "        return self.Cash + self.MutualFund + self.Stock\n",
    "    \n",
    "    # withdraw cash\n",
    "    def withdrawCash(self, cash):\n",
    "        self.withdrawCash -= cash\n",
    "\n",
    "    # add cash\n",
    "    def addCash(self, cash):\n",
    "        self.addCash += cash\n",
    "    \n",
    "    # buy mutual fund\n",
    "    def buyMutualFund(self, amount, cash):\n",
    "        self.buyMutualFund += amount\n",
    "        self.withdrawCash -= cash\n",
    "        return self.withdrawCash + self.MutualFund\n",
    "    \n",
    "    # create mutual fund \n",
    "    def MutualFund(mf):\n",
    "        mf = MutualFund(\"\")\n",
    "\n",
    "    # sell stock\n",
    "    def sellStock(self, stock, cash):\n",
    "        self.sellStock += stock\n",
    "        self.withdrawCash -= cash\n",
    "        return self.sellStock + self.withdrawCash\n",
    "\n",
    "portfolio = Portfolio(client_id)"
   ]
  },
  {
   "cell_type": "code",
   "execution_count": 5,
   "metadata": {},
   "outputs": [],
   "source": [
    "import random\n",
    "\n",
    "class Portfolio:\n",
    "    def __init__(self, client_id, cash_balance=0, mutual_fund=0, stocks=0):\n",
    "        self.client = Client(client_id, cash_balance, mutual_fund, stocks)\n",
    "        self.Stocks = []\n",
    "        self.MutualFunds = []\n",
    "        self.withdrawCash = []\n",
    "        self.balance = 0\n",
    "\n",
    "    def addCash(self, cash):\n",
    "        self.balance += cash\n",
    "        print(self.balance)\n",
    "\n",
    "    def history(self):\n",
    "        return self.balance, self.withdrawCash, self.mutual_fund, self.stock\n",
    "\n",
    "class MutualFund:\n",
    "    def __init__(self, mutual_fund):\n",
    "        self.mutual_fund = mutual_fund\n",
    "        self.randomprice = random.uniform(0.9, 1.2)\n",
    "\n",
    "    def buyMutualFund(self, amount):\n",
    "        self.buyMutualFund += buyMutualFund\n",
    "        self.amount = amount\n",
    "\n",
    "    def sellMutualFund(self, amount):\n",
    "        self.sellMutualFund -= sellMutualFund\n",
    "        self.amount = amount\n",
    "\n",
    "class Stock:\n",
    "    def __init__(self, stock):\n",
    "        self.stock = stock\n",
    "\n",
    "    def buyStock(self, stock):\n",
    "        self.buyStock = buyStock \n",
    "\n",
    "    def sellStock(self, stock, cash):\n",
    "        self.sellStock += stock\n",
    "        self.withdrawCash -= cash\n",
    "        return self.sellStock + self.withdrawCash\n",
    "\n",
    "    "
   ]
  },
  {
   "cell_type": "code",
   "execution_count": 3,
   "metadata": {},
   "outputs": [
    {
     "ename": "TypeError",
     "evalue": "Portfolio.__init__() missing 1 required positional argument: 'client_id'",
     "output_type": "error",
     "traceback": [
      "\u001b[0;31m---------------------------------------------------------------------------\u001b[0m",
      "\u001b[0;31mTypeError\u001b[0m                                 Traceback (most recent call last)",
      "Cell \u001b[0;32mIn[3], line 3\u001b[0m\n\u001b[1;32m      1\u001b[0m \u001b[39m# Commands to run\u001b[39;00m\n\u001b[0;32m----> 3\u001b[0m portfolio \u001b[39m=\u001b[39m Portfolio() \u001b[39m# creates new portfolio\u001b[39;00m\n\u001b[1;32m      4\u001b[0m portfolio\u001b[39m.\u001b[39maddCash(\u001b[39m300.50\u001b[39m) \u001b[39m# adds cash to portfolio\u001b[39;00m\n\u001b[1;32m      5\u001b[0m portfolio\u001b[39m.\u001b[39mwithdrawCash(\u001b[39m50\u001b[39m) \u001b[39m# withdraw $50 from cash\u001b[39;00m\n",
      "\u001b[0;31mTypeError\u001b[0m: Portfolio.__init__() missing 1 required positional argument: 'client_id'"
     ]
    }
   ],
   "source": [
    "# Commands to run\n",
    "\n",
    "portfolio = Portfolio() # creates new portfolio\n",
    "portfolio.addCash(300.50) # adds cash to portfolio\n",
    "portfolio.withdrawCash(50) # withdraw $50 from cash\n",
    "stock = Stock(20, 'HFH') # creates new stock\n",
    "portfolio.buyStock(5, stock) # buys 5 shares of stocks \n",
    "mf1 = MutualFund('BRT') # creates mutual fund called 'BRT'\n",
    "mf2 = MutualFund('GHT') # creates mutual fund called 'GHT'\n",
    "portfolio.buyMutualFund(10.3, mf1) # buy 10.3 shares of BRT\n",
    "portfolio.buyMutualFund(2, mf2) # buy 2 shares of GHT\n",
    "portfolio.sellMutualFund('BRT', 3) # sell 3 shares of BRT\n",
    "portfolio.sellMutualFund('HFH', 1) # sell 1 share of HFH\n",
    "portfolio.history() # prints transaction history\n",
    "\n"
   ]
  }
 ],
 "metadata": {
  "kernelspec": {
   "display_name": "base",
   "language": "python",
   "name": "python3"
  },
  "language_info": {
   "codemirror_mode": {
    "name": "ipython",
    "version": 3
   },
   "file_extension": ".py",
   "mimetype": "text/x-python",
   "name": "python",
   "nbconvert_exporter": "python",
   "pygments_lexer": "ipython3",
   "version": "3.11.4"
  },
  "orig_nbformat": 4
 },
 "nbformat": 4,
 "nbformat_minor": 2
}
